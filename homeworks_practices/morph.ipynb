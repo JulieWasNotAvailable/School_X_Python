{
 "cells": [
  {
   "cell_type": "code",
   "execution_count": 2,
   "metadata": {},
   "outputs": [],
   "source": [
    "import nltk\n",
    "from nltk.corpus import stopwords\n",
    "from nltk.tokenize import WordPunctTokenizer\n",
    "import spacy\n",
    "import os\n",
    "import matplotlib.pyplot as plt"
   ]
  },
  {
   "cell_type": "code",
   "execution_count": 3,
   "metadata": {},
   "outputs": [],
   "source": [
    "# !py -m spacy download ru_core_news_sm"
   ]
  },
  {
   "cell_type": "code",
   "execution_count": 4,
   "metadata": {},
   "outputs": [],
   "source": [
    "nlp = spacy.load('ru_core_news_sm')\n",
    "stop = stopwords.words(\"russian\")"
   ]
  },
  {
   "cell_type": "code",
   "execution_count": 5,
   "metadata": {},
   "outputs": [],
   "source": [
    "stop.extend([\"около\", \"это\"])\n"
   ]
  },
  {
   "cell_type": "code",
   "execution_count": 42,
   "metadata": {},
   "outputs": [],
   "source": [
    "def tok_stop(adress):\n",
    "    file = open(adress, \"r\", encoding = \"utf-8\")\n",
    "    text = file.read().lower()\n",
    "    file.close()\n",
    "    text_tok = WordPunctTokenizer().tokenize(text)\n",
    "    words_filtered = [word for word in text_tok if word not in stop]\n",
    "    \n",
    "    return words_filtered\n",
    "\n",
    "def tok_cleaner(words_filtered):\n",
    "    punct = [\"!\",\"#\",\"$\",\"%\",\"&\",\"'\",\"(\",\")\",\"*\",\"+\",\"-\",\".\",\"/\",\":\",\";\",\"<\",\"=\",\">\",\"?\",\\\n",
    "            '\"',\"@\",\"[\",\",\",\"]\", \"--\", chr(8230), chr(8211), \"i\", chr(187), chr(32), chr(171), chr(8212)] #два типа длиных тире, троеточие, угловые кавычеи\n",
    "    filter1 = [word for word in words_filtered if word[0] not in punct] \n",
    "    filter2 = []\n",
    "    for word in filter1:\n",
    "        if \".\" in word:\n",
    "                word = word.replace(\".\", \"\")\n",
    "                if \".\" in word:\n",
    "                        word = word.replace(\".\", \"\")\n",
    "                        if \".\" in word:\n",
    "                                word = word.replace(\".\", \"\")\n",
    "        if \",\" in word or \"!\" in word or \"?\" in word or \":\" in word:\n",
    "            word = word.replace(\"!\", \"\")\n",
    "            word = word.replace(\",\", \"\")\n",
    "            word = word.replace(\"?\", \"\")\n",
    "            word = word.replace(\":\", \"\")\n",
    "        filter2.append(word)\n",
    "    return filter2\n"
   ]
  },
  {
   "cell_type": "code",
   "execution_count": 43,
   "metadata": {},
   "outputs": [],
   "source": [
    "d = {}\n",
    "for filename in os.scandir(\"6_texts\"):\n",
    "        d[\"{}\".format(filename.name)] = tok_cleaner(tok_stop(filename.path))\n",
    "#я не спёрла из интернета, я подсмотрела и научилась"
   ]
  },
  {
   "cell_type": "markdown",
   "metadata": {},
   "source": [
    "**Лексическое разнообразие** <br>"
   ]
  },
  {
   "cell_type": "code",
   "execution_count": 13,
   "metadata": {},
   "outputs": [
    {
     "data": {
      "text/plain": [
       "<BarContainer object of 6 artists>"
      ]
     },
     "execution_count": 13,
     "metadata": {},
     "output_type": "execute_result"
    },
    {
     "data": {
      "image/png": "[encoded data removed]",
      "text/plain": [
       "<Figure size 640x480 with 1 Axes>"
      ]
     },
     "metadata": {},
     "output_type": "display_data"
    }
   ],
   "source": [
    "def word_variety (text):\n",
    "    unique = len(set(text))/len(text)\n",
    "    return unique\n",
    "\n",
    "texts_v = []\n",
    "for key in d.keys():\n",
    "    texts_v.append(word_variety(d[key]))\n",
    "\n",
    "x_axiss = ['1_anton_yabl_tok_1895.txt', '2_suhodol_1909_tok.txt', '3_nochnoy_razg_1911_tok.txt',\\\n",
    "           '4_gospodin_iz_sanfran_tok_1915.txt', '5_zhizn_arsen_1928_tok.txt', '6_pozniy_chas_1938_tok.txt']\n",
    "\n",
    "plt.bar(x_axiss, texts_v)"
   ]
  },
  {
   "cell_type": "markdown",
   "metadata": {},
   "source": [
    "Вывод 1: лексическое разнообразие почти не менялось за время жизни Бунина. <br>\n",
    "Но в произведении \"Поздний час\" оно резко возросло. Скорее всего это связано с тем, что это одно из последих прозаических произведений автора."
   ]
  },
  {
   "cell_type": "markdown",
   "metadata": {},
   "source": [
    "**Преобладающие части речи в произведениях**"
   ]
  },
  {
   "cell_type": "code",
   "execution_count": null,
   "metadata": {},
   "outputs": [],
   "source": [
    "%pip install pymorphy2\n",
    "import pymorphy3\n",
    "from collections import Counter\n",
    "morph = pymorphy3.MorphAnalyzer()\n",
    "import numpy as np"
   ]
  },
  {
   "cell_type": "code",
   "execution_count": 16,
   "metadata": {},
   "outputs": [],
   "source": [
    "def spp (text) : #spp - speech parts\n",
    "    adj = []\n",
    "    for word in text:\n",
    "        word = morph.parse(word)[0].normal_form\n",
    "        adj.append(morph.parse(word)[0].tag.POS)\n",
    "    adj2 = Counter(adj)\n",
    "    return adj2.most_common(4)\n",
    "\n",
    "texts_spp = []\n",
    "for key in d.keys():\n",
    "    texts_spp.append(spp(d[key]))"
   ]
  },
  {
   "cell_type": "code",
   "execution_count": 18,
   "metadata": {},
   "outputs": [],
   "source": [
    "# ячейку трогать можно лишь единожды\n",
    "\n",
    "right = [\"NOUN\",\"ADJF\",\"INFN\", \"ADVB\", \"CONJ\"]\n",
    "a = texts_spp[1][1]\n",
    "texts_spp[1][1] = texts_spp[1][2]\n",
    "texts_spp[1][2] = a\n",
    "\n",
    "b = texts_spp[2][1]\n",
    "texts_spp[2][1] = texts_spp[2][2]\n",
    "texts_spp[2][2] = b"
   ]
  },
  {
   "cell_type": "code",
   "execution_count": 19,
   "metadata": {},
   "outputs": [
    {
     "data": {
      "text/plain": [
       "[[('NOUN', 1308), ('ADJF', 647), ('INFN', 634), ('ADVB', 216)],\n",
       " [('NOUN', 4512), ('ADJF', 2043), ('INFN', 2655), ('ADVB', 759)],\n",
       " [('NOUN', 1530), ('ADJF', 606), ('INFN', 1306), ('ADVB', 240)],\n",
       " [('NOUN', 1858), ('ADJF', 1039), ('INFN', 916), ('ADVB', 345)],\n",
       " [('NOUN', 20288), ('ADJF', 13453), ('INFN', 11432), ('ADVB', 4603)],\n",
       " [('NOUN', 448), ('ADJF', 315), ('INFN', 231), ('ADVB', 104)]]"
      ]
     },
     "execution_count": 19,
     "metadata": {},
     "output_type": "execute_result"
    }
   ],
   "source": [
    "texts_spp"
   ]
  },
  {
   "cell_type": "code",
   "execution_count": 35,
   "metadata": {},
   "outputs": [],
   "source": [
    "x = [\"СУЩ\",\"ПРИЛ\", \"ГЛАГ\", \"НАР\"]\n",
    "\n",
    "def helper(k,n): \n",
    "    y = []\n",
    "    true_y = []\n",
    "    for l in texts_spp[k]:\n",
    "        y.append(l[n])               \n",
    "    for el in y:\n",
    "        true_el = el/sum(y)\n",
    "        true_y.append(true_el)\n",
    "    return true_y\n",
    "\n",
    "y1 = helper(0,1)\n",
    "y2 = helper(1,1)\n",
    "y3 = helper(2,1)\n",
    "y4 = helper(3,1)\n",
    "y5 = helper(4,1)\n",
    "y6 = helper(5,1)"
   ]
  },
  {
   "cell_type": "code",
   "execution_count": 36,
   "metadata": {},
   "outputs": [
    {
     "data": {
      "text/plain": [
       "<function matplotlib.pyplot.show(close=None, block=None)>"
      ]
     },
     "execution_count": 36,
     "metadata": {},
     "output_type": "execute_result"
    },
    {
     "data": {
      "image/png": "[encoded data removed]",
      "text/plain": [
       "<Figure size 640x480 with 1 Axes>"
      ]
     },
     "metadata": {},
     "output_type": "display_data"
    }
   ],
   "source": [
    "x_axis = np.arange(len(x))\n",
    "\n",
    "plt.bar(x_axis - 0.2,y1,0.1,label=\"1895\")\n",
    "plt.bar(x_axis - 0.1,y2,0.1,label=\"1909\")\n",
    "plt.bar(x_axis - 0,y3,0.1,label=\"1911\")\n",
    "plt.bar(x_axis + 0.1,y4,0.1,label=\"1915\")\n",
    "plt.bar(x_axis + 0.2,y5,0.1,label=\"1928\")\n",
    "plt.bar(x_axis + 0.3,y6,0.1,label=\"1938\")\n",
    "\n",
    "plt.xticks(x_axis, x) \n",
    "plt.xlabel(\"часть речи\") \n",
    "plt.ylabel(\"частота использования\") \n",
    "plt.title(\"изменение частоты использования частей речи с 1895 по 1938 годы\") \n",
    "plt.legend() \n",
    "\n",
    "plt.show"
   ]
  },
  {
   "cell_type": "markdown",
   "metadata": {},
   "source": [
    "Вывод 2: У Бунина наблюдается обилие прилагательных в произведениях поздних лет. <br>\n",
    "Есть гипотеза, что существует тренд к увеличению описательной составляющей. <br>\n",
    "Наречия тоже служат показателем большего количества описаний <br>\n",
    "<br>\n",
    "Вывод 3: Причём посередине двух периодов наблюдается скачок, (на произведении \"ночной разговор\"). <br>\n",
    "В произведении и правда много диалогов -> глаголы \"сказал\", \"отозвался\", \"спросил\""
   ]
  },
  {
   "cell_type": "markdown",
   "metadata": {},
   "source": [
    "**Самые частые слова**"
   ]
  },
  {
   "cell_type": "code",
   "execution_count": 46,
   "metadata": {},
   "outputs": [
    {
     "name": "stdout",
     "output_type": "stream",
     "text": [
      "сад точно помню весь поле \n",
      "\n",
      "наталья петр наташка петрович барышня \n",
      "\n",
      "сказал федот гимназист пашка старик \n",
      "\n",
      "сан франциско господин капри среди \n",
      "\n",
      "своей очень день жизни весь \n",
      "\n",
      "пошел свете видел город улицы \n",
      "\n"
     ]
    }
   ],
   "source": [
    "def common_words(text):\n",
    "    text2 = Counter(text).most_common(5)\n",
    "    return text2\n",
    "\n",
    "texts_cw = []\n",
    "for key in d.keys():\n",
    "    texts_cw.append(common_words(d[key]))\n",
    "\n",
    "for row in texts_cw:\n",
    "    for el in row:\n",
    "        print(el[0], end = \" \")\n",
    "    print(\"\\n\")"
   ]
  },
  {
   "cell_type": "markdown",
   "metadata": {},
   "source": [
    "Вывод 4: сравнив самые частые слова с содержанием книги, мы можем сделать вывод, что они способны указывать на: <br>\n",
    "<br>\n",
    "Локацию (в \"Антоновских яблоках\" автор вспоминает сад, остров Капри из произведения \"Господин из Сан-Франциско\", город и улицы в пр. \"Поздний час\") <br>\n",
    "<br>\n",
    "Имена и роли главных героев (суходол, ночной разговор) <br>\n"
   ]
  }
 ],
 "metadata": {
  "kernelspec": {
   "display_name": "Python 3",
   "language": "python",
   "name": "python3"
  },
  "language_info": {
   "codemirror_mode": {
    "name": "ipython",
    "version": 3
   },
   "file_extension": ".py",
   "mimetype": "text/x-python",
   "name": "python",
   "nbconvert_exporter": "python",
   "pygments_lexer": "ipython3",
   "version": "3.11.1"
  }
 },
 "nbformat": 4,
 "nbformat_minor": 2
}
