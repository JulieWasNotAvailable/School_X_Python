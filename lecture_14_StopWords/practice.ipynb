{
 "cells": [
  {
   "cell_type": "code",
   "execution_count": 1,
   "metadata": {},
   "outputs": [],
   "source": [
    "import spacy"
   ]
  },
  {
   "cell_type": "code",
   "execution_count": 4,
   "metadata": {},
   "outputs": [],
   "source": [
    "doc = \"Санкт-Петербург, июнь 1805 года. Европу завоёвывала французская армия. В России французского императора называли антихристом и собирались сражаться с ним в союзе с Австрией. \\n В это время из-за болезни отца в Россию вернулся Пьер Безухов и сразу попал под влияние своего дальнего родственника и его беспутного сына. Французский император был кумиром Пьера. \\n Из-за участия в очередной выходке приятеля, Пьера выслали из Петербурга.Он вернулся к отцу в Москву и застал его умирающим. Родственник Пьера, тоже претендовавший на наследство, попытался уничтожить завещание, но его план провалился. После смерти отца Пьер стал одним из богатейших людей России.\""
   ]
  },
  {
   "cell_type": "code",
   "execution_count": 7,
   "metadata": {},
   "outputs": [
    {
     "ename": "AttributeError",
     "evalue": "'str' object has no attribute 'text'",
     "output_type": "error",
     "traceback": [
      "\u001b[1;31m---------------------------------------------------------------------------\u001b[0m",
      "\u001b[1;31mAttributeError\u001b[0m                            Traceback (most recent call last)",
      "\u001b[1;32mc:\\Users\\1\\PycharmProjects\\i_love_tuesdays\\lecutre_14_StopWords\\practice.ipynb Cell 3\u001b[0m line \u001b[0;36m1\n\u001b[1;32m----> <a href='vscode-notebook-cell:/c%3A/Users/1/PycharmProjects/i_love_tuesdays/lecutre_14_StopWords/practice.ipynb#W1sZmlsZQ%3D%3D?line=0'>1</a>\u001b[0m words \u001b[39m=\u001b[39m [token\u001b[39m.\u001b[39;49mtext \u001b[39mfor\u001b[39;49;00m token \u001b[39min\u001b[39;49;00m doc]\n\u001b[0;32m      <a href='vscode-notebook-cell:/c%3A/Users/1/PycharmProjects/i_love_tuesdays/lecutre_14_StopWords/practice.ipynb#W1sZmlsZQ%3D%3D?line=1'>2</a>\u001b[0m words_filtered \u001b[39m=\u001b[39m [token\u001b[39m.\u001b[39mtext \u001b[39mfor\u001b[39;00m token \u001b[39min\u001b[39;00m doc \u001b[39mif\u001b[39;00m \u001b[39mnot\u001b[39;00m token\u001b[39m.\u001b[39mis_punct \u001b[39mand\u001b[39;00m \u001b[39mnot\u001b[39;00m token\u001b[39m.\u001b[39mis_stop]\n",
      "\u001b[1;32mc:\\Users\\1\\PycharmProjects\\i_love_tuesdays\\lecutre_14_StopWords\\practice.ipynb Cell 3\u001b[0m line \u001b[0;36m1\n\u001b[1;32m----> <a href='vscode-notebook-cell:/c%3A/Users/1/PycharmProjects/i_love_tuesdays/lecutre_14_StopWords/practice.ipynb#W1sZmlsZQ%3D%3D?line=0'>1</a>\u001b[0m words \u001b[39m=\u001b[39m [token\u001b[39m.\u001b[39;49mtext \u001b[39mfor\u001b[39;00m token \u001b[39min\u001b[39;00m doc]\n\u001b[0;32m      <a href='vscode-notebook-cell:/c%3A/Users/1/PycharmProjects/i_love_tuesdays/lecutre_14_StopWords/practice.ipynb#W1sZmlsZQ%3D%3D?line=1'>2</a>\u001b[0m words_filtered \u001b[39m=\u001b[39m [token\u001b[39m.\u001b[39mtext \u001b[39mfor\u001b[39;00m token \u001b[39min\u001b[39;00m doc \u001b[39mif\u001b[39;00m \u001b[39mnot\u001b[39;00m token\u001b[39m.\u001b[39mis_punct \u001b[39mand\u001b[39;00m \u001b[39mnot\u001b[39;00m token\u001b[39m.\u001b[39mis_stop]\n",
      "\u001b[1;31mAttributeError\u001b[0m: 'str' object has no attribute 'text'"
     ]
    }
   ],
   "source": [
    "words = [token.text for token in doc]\n",
    "words_filtered = [token.text for token in doc if not token.is_punct and not token.is_stop]"
   ]
  },
  {
   "cell_type": "code",
   "execution_count": null,
   "metadata": {},
   "outputs": [],
   "source": [
    "words_lemma = [token.lemma_ for token in doc if not token.is_punct and not token.is_stop]"
   ]
  },
  {
   "cell_type": "markdown",
   "metadata": {},
   "source": [
    "с точки зрения регистра, есть чувствительность <br>\n",
    "игорь шмаков и Игорь Шмаков - разные объекты <br>\n",
    "чтобы не допускать разночтений, текст своидтся к одному регистру, к нижнему <br>\n",
    "можем применить метод lower, но при лемматизации, этот процесс автоматический <br>\n",
    "\n",
    "можно проверять схожесть текста по векторам\n",
    "считать прям методе библиотеки спейси\n",
    "мтеолд sililarity\n",
    "\n",
    "doc.vector\n",
    "doc.similarity"
   ]
  },
  {
   "cell_type": "code",
   "execution_count": null,
   "metadata": {},
   "outputs": [],
   "source": [
    "сравнить по объёму\n",
    "делать преобработку и сравнивать\n",
    "определить, насколько тексты похожи друг на друга\n"
   ]
  }
 ],
 "metadata": {
  "kernelspec": {
   "display_name": "Python 3",
   "language": "python",
   "name": "python3"
  },
  "language_info": {
   "codemirror_mode": {
    "name": "ipython",
    "version": 3
   },
   "file_extension": ".py",
   "mimetype": "text/x-python",
   "name": "python",
   "nbconvert_exporter": "python",
   "pygments_lexer": "ipython3",
   "version": "3.11.1"
  }
 },
 "nbformat": 4,
 "nbformat_minor": 2
}
