{
 "cells": [
  {
   "cell_type": "code",
   "execution_count": 493,
   "metadata": {},
   "outputs": [],
   "source": [
    "import nltk\n",
    "from nltk.corpus import stopwords\n",
    "from nltk.tokenize import WhitespaceTokenizer\n",
    "import spacy\n",
    "import os\n",
    "import matplotlib.pyplot as plt"
   ]
  },
  {
   "cell_type": "code",
   "execution_count": null,
   "metadata": {},
   "outputs": [],
   "source": [
    "# print(spacy.__version__)\n",
    "!py -m spacy download ru_core_news_sm"
   ]
  },
  {
   "cell_type": "code",
   "execution_count": 495,
   "metadata": {},
   "outputs": [
    {
     "name": "stderr",
     "output_type": "stream",
     "text": [
      "[nltk_data] Downloading package averaged_perceptron_tagger to\n",
      "[nltk_data]     C:\\Users\\1\\AppData\\Roaming\\nltk_data...\n",
      "[nltk_data]   Package averaged_perceptron_tagger is already up-to-\n",
      "[nltk_data]       date!\n"
     ]
    },
    {
     "data": {
      "text/plain": [
       "True"
      ]
     },
     "execution_count": 495,
     "metadata": {},
     "output_type": "execute_result"
    }
   ],
   "source": [
    "nltk.download('averaged_perceptron_tagger') #для pos_tag"
   ]
  },
  {
   "cell_type": "code",
   "execution_count": 496,
   "metadata": {},
   "outputs": [],
   "source": [
    "nlp = spacy.load('ru_core_news_sm')\n",
    "stop = stopwords.words(\"russian\")"
   ]
  },
  {
   "cell_type": "code",
   "execution_count": 497,
   "metadata": {},
   "outputs": [],
   "source": [
    "stop.extend([\"около\", \"это\"])"
   ]
  },
  {
   "cell_type": "code",
   "execution_count": 524,
   "metadata": {},
   "outputs": [],
   "source": [
    "def clean_tokenizer(adress):\n",
    "    text = open(adress, \"r\", encoding = \"utf-8\").read()\n",
    "    text = text.lower()\n",
    "    text1 = WhitespaceTokenizer().tokenize(text)\n",
    "    words_filtered = [word for word in text1 if word not in stop]\n",
    "\n",
    "    new = []\n",
    "    for word in words_filtered:\n",
    "        if \"\\n\" in word or \"I\" in word or \"--\" in word or \"—\" in word or \"-\" in word\\\n",
    "            or chr(8211) in word or chr(8230) in word or chr(1080) in word\\\n",
    "                or \"своей\" in word or \"очень\" in word: \n",
    "            words_filtered.remove(word)\n",
    "            continue\n",
    "        if \".\" in word:\n",
    "            word = word.replace(\".\", \"\")\n",
    "            if \".\" in word:\n",
    "                word = word.replace(\".\", \"\")\n",
    "                if \".\" in word:\n",
    "                    word = word.replace(\".\", \"\")\n",
    "        if \",\" in word or \"!\" in word or \"?\" in word or \":\" in word:\n",
    "            word = word.replace(\"!\", \"\")\n",
    "            word = word.replace(\",\", \"\")\n",
    "            word = word.replace(\"?\", \"\")\n",
    "            word = word.replace(\":\", \"\")\n",
    "        if \"\\\"\" in word or \"--\" in word:\n",
    "            word = word.replace(\"\\\"\", \"\")\n",
    "            word = word.replace(\"--\", \"\")\n",
    "        new.append(word)\n",
    "    return new\n"
   ]
  },
  {
   "cell_type": "code",
   "execution_count": 525,
   "metadata": {},
   "outputs": [],
   "source": [
    "d = {}\n",
    "for filename in os.scandir(\"6_texts\"):\n",
    "        d[\"{}\".format(filename.name)] = clean_tokenizer(filename.path)      \n",
    "#я не спёрла из интернета, я подсмотрела и научилась"
   ]
  },
  {
   "cell_type": "markdown",
   "metadata": {},
   "source": [
    "**Лексическое разнообразие** <br>"
   ]
  },
  {
   "cell_type": "code",
   "execution_count": 500,
   "metadata": {},
   "outputs": [
    {
     "data": {
      "text/plain": [
       "<BarContainer object of 6 artists>"
      ]
     },
     "execution_count": 500,
     "metadata": {},
     "output_type": "execute_result"
    },
    {
     "data": {
      "image/png": "[encoded data removed]",
      "text/plain": [
       "<Figure size 640x480 with 1 Axes>"
      ]
     },
     "metadata": {},
     "output_type": "display_data"
    }
   ],
   "source": [
    "def word_variety (text):\n",
    "    unique = len(set(text))/len(text)\n",
    "    return unique\n",
    "\n",
    "texts_v = []\n",
    "for key in d.keys():\n",
    "    texts_v.append(word_variety(d[key]))\n",
    "\n",
    "x_axiss = ['1_anton_yabl_tok_1895.txt', '2_suhodol_1909_tok.txt', '3_nochnoy_razg_1911_tok.txt',\\\n",
    "           '4_gospodin_iz_sanfran_tok_1915.txt', '5_zhizn_arsen_1928_tok.txt', '6_pozniy_chas_1938_tok.txt']\n",
    "\n",
    "plt.bar(x_axiss, texts_v)"
   ]
  },
  {
   "cell_type": "markdown",
   "metadata": {},
   "source": [
    "Вывод 1: лексическое разнообразие почти не менялось за время жизни Бунина. <br>\n",
    "Но в произведении \"Поздний час\" оно резко возросло. Скорее всего это связано с тем, что это одно из последих прозаических произведений автора."
   ]
  },
  {
   "cell_type": "markdown",
   "metadata": {},
   "source": [
    "**Преобладающие части речи в произведениях**"
   ]
  },
  {
   "cell_type": "code",
   "execution_count": 501,
   "metadata": {},
   "outputs": [
    {
     "name": "stdout",
     "output_type": "stream",
     "text": [
      "Requirement already satisfied: pymorphy2 in c:\\users\\1\\appdata\\local\\programs\\python\\python311\\lib\\site-packages (0.9.1)Note: you may need to restart the kernel to use updated packages.\n",
      "\n",
      "Requirement already satisfied: dawg-python>=0.7.1 in c:\\users\\1\\appdata\\local\\programs\\python\\python311\\lib\\site-packages (from pymorphy2) (0.7.2)\n",
      "Requirement already satisfied: pymorphy2-dicts-ru<3.0,>=2.4 in c:\\users\\1\\appdata\\local\\programs\\python\\python311\\lib\\site-packages (from pymorphy2) (2.4.417127.4579844)\n",
      "Requirement already satisfied: docopt>=0.6 in c:\\users\\1\\appdata\\local\\programs\\python\\python311\\lib\\site-packages (from pymorphy2) (0.6.2)\n"
     ]
    }
   ],
   "source": [
    "%pip install pymorphy2\n",
    "import pymorphy3\n",
    "from collections import Counter\n",
    "morph = pymorphy3.MorphAnalyzer()\n",
    "import numpy as np"
   ]
  },
  {
   "cell_type": "code",
   "execution_count": 502,
   "metadata": {},
   "outputs": [],
   "source": [
    "def spp (text) : #spp - speech parts\n",
    "    adj = []\n",
    "    for word in text:\n",
    "        word = morph.parse(word)[0].normal_form\n",
    "        adj.append(morph.parse(word)[0].tag.POS)\n",
    "    adj2 = Counter(adj)\n",
    "    return adj2.most_common(4)\n",
    "\n",
    "texts_spp = []\n",
    "for key in d.keys():\n",
    "    texts_spp.append(spp(d[key]))"
   ]
  },
  {
   "cell_type": "code",
   "execution_count": 503,
   "metadata": {},
   "outputs": [],
   "source": [
    "# НЕ ТРОГАТЬ ЭТУ ЯЧЕЙКУ\n",
    "\n",
    "right = [\"NOUN\",\"ADJF\",\"INFN\", \"ADVB\", \"CONJ\"]\n",
    "a = texts_spp[1][1]\n",
    "texts_spp[1][1] = texts_spp[1][2]\n",
    "texts_spp[1][2] = a\n",
    "\n",
    "b = texts_spp[2][1]\n",
    "texts_spp[2][1] = texts_spp[2][2]\n",
    "texts_spp[2][2] = b"
   ]
  },
  {
   "cell_type": "code",
   "execution_count": 504,
   "metadata": {},
   "outputs": [
    {
     "data": {
      "text/plain": [
       "[[('NOUN', 644), ('ADJF', 303), ('INFN', 267), ('ADVB', 146)],\n",
       " [('NOUN', 2062), ('INFN', 979), ('ADJF', 980), ('ADVB', 468)],\n",
       " [('NOUN', 711), ('ADJF', 337), ('INFN', 459), ('ADVB', 139)],\n",
       " [('NOUN', 731), ('ADJF', 474), ('INFN', 326), ('ADVB', 217)],\n",
       " [('NOUN', 9208), ('ADJF', 6811), ('INFN', 4587), ('ADVB', 3141)],\n",
       " [('NOUN', 222), ('ADJF', 156), ('INFN', 113), ('ADVB', 75)]]"
      ]
     },
     "execution_count": 504,
     "metadata": {},
     "output_type": "execute_result"
    }
   ],
   "source": [
    "texts_spp"
   ]
  },
  {
   "cell_type": "code",
   "execution_count": 505,
   "metadata": {},
   "outputs": [],
   "source": [
    "x = [\"СУЩ\",\"ПРИЛ\", \"ГЛАГ\", \"НАР\"]\n",
    "\n",
    "def helper(k,n):\n",
    "    x = []\n",
    "    y = []\n",
    "    for l in texts_spp[k]:\n",
    "        x.append(l[n])\n",
    "    if n == 0:\n",
    "        return x        \n",
    "    elif n == 1:       \n",
    "        for el in x:\n",
    "            true_el = el/sum(x)\n",
    "            y.append(true_el)\n",
    "    return y\n",
    "\n",
    "y1 = helper(0,1)\n",
    "y2 = helper(1,1)\n",
    "y3 = helper(2,1)\n",
    "y4 = helper(3,1)\n",
    "y5 = helper(4,1)\n",
    "y6 = helper(5,1)"
   ]
  },
  {
   "cell_type": "markdown",
   "metadata": {},
   "source": [
    "[('NOUN', 1271), ('ADJF', 621), ('INFN', 619), ('ADVB', 229), ('CONJ', 80)]\n",
    "[('NOUN', 4259), ('INFN', 2471), ('ADJF', 1957), ('ADVB', 792), ('CONJ', 398)]\n",
    "[('NOUN', 1443), ('INFN', 1172), ('ADJF', 591), ('ADVB', 244), ('NPRO', 163)]\n",
    "[('NOUN', 1724), ('ADJF', 998), ('INFN', 886), ('ADVB', 356), (None, 144)]\n",
    "[('NOUN', 19232), ('ADJF', 13231), ('INFN', 11037), ('ADVB', 5002), ('NPRO', 1996)]\n",
    "[('NOUN', 433), ('ADJF', 312), ('INFN', 231), ('ADVB', 117), ('NPRO', 50)]"
   ]
  },
  {
   "cell_type": "code",
   "execution_count": 506,
   "metadata": {},
   "outputs": [
    {
     "data": {
      "text/plain": [
       "<function matplotlib.pyplot.show(close=None, block=None)>"
      ]
     },
     "execution_count": 506,
     "metadata": {},
     "output_type": "execute_result"
    },
    {
     "data": {
      "image/png": "[encoded data removed]",
      "text/plain": [
       "<Figure size 640x480 with 1 Axes>"
      ]
     },
     "metadata": {},
     "output_type": "display_data"
    }
   ],
   "source": [
    "x_axis = np.arange(len(x))\n",
    "\n",
    "plt.bar(x_axis - 0.2,y1,0.1,label=\"1895\")\n",
    "plt.bar(x_axis - 0.1,y2,0.1,label=\"1909\")\n",
    "plt.bar(x_axis - 0,y3,0.1,label=\"1911\")\n",
    "plt.bar(x_axis + 0.1,y4,0.1,label=\"1915\")\n",
    "plt.bar(x_axis + 0.2,y5,0.1,label=\"1928\")\n",
    "plt.bar(x_axis + 0.3,y6,0.1,label=\"1938\")\n",
    "\n",
    "plt.xticks(x_axis, x) \n",
    "plt.xlabel(\"часть речи\") \n",
    "plt.ylabel(\"частота использования\") \n",
    "plt.title(\"изменение частоты использования частей речи с 1895 по 1938 годы\") \n",
    "plt.legend() \n",
    "\n",
    "plt.show"
   ]
  },
  {
   "cell_type": "markdown",
   "metadata": {},
   "source": [
    "Вывод2: У Бунина наблюдается обилие прилагательных в произведениях поздних лет. <br>\n",
    "Есть гипотеза, что существует тренд к увеличению описательной составляющей. <br>\n",
    "Наречия тоже служат показателем большего количества описаний <br>\n",
    "<br>\n",
    "Вывод3: Причём посередине двух периодов наблюдается скачок, (на произведении \"ночной разговор\"). <br>\n",
    "В произведении и правда много диалогов -> глаголы \"сказал\", \"отозвался\", \"спросил\""
   ]
  },
  {
   "cell_type": "markdown",
   "metadata": {},
   "source": [
    "**Самые частые слова**"
   ]
  },
  {
   "cell_type": "code",
   "execution_count": 526,
   "metadata": {},
   "outputs": [
    {
     "name": "stdout",
     "output_type": "stream",
     "text": [
      "помню точно поле доме весь \n",
      "\n",
      "наталья петр наташка она дедушка \n",
      "\n",
      "федот пашка он стал прямо \n",
      "\n",
      "снова точно возле которых самого \n",
      "\n",
      "я день весь время то \n",
      "\n",
      "свете месяц темные город пошел \n",
      "\n"
     ]
    }
   ],
   "source": [
    "d[\"1_anton_yabl_tok_1895.txt\"]\n",
    "\n",
    "def common_words(text):\n",
    "    text2 = Counter(text).most_common(5)\n",
    "    return text2\n",
    "\n",
    "texts_cw = []\n",
    "for key in d.keys():\n",
    "    texts_cw.append(common_words(d[key]))\n",
    "\n",
    "for row in texts_cw:\n",
    "    for el in row:\n",
    "        print(el[0], end = \" \")\n",
    "    print(\"\\n\")"
   ]
  },
  {
   "cell_type": "markdown",
   "metadata": {},
   "source": [
    "Вывод4: не смогла почистить датасет от стоп-слов"
   ]
  }
 ],
 "metadata": {
  "kernelspec": {
   "display_name": "Python 3",
   "language": "python",
   "name": "python3"
  },
  "language_info": {
   "codemirror_mode": {
    "name": "ipython",
    "version": 3
   },
   "file_extension": ".py",
   "mimetype": "text/x-python",
   "name": "python",
   "nbconvert_exporter": "python",
   "pygments_lexer": "ipython3",
   "version": "3.11.1"
  }
 },
 "nbformat": 4,
 "nbformat_minor": 2
}
