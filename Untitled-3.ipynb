{
 "cells": [
  {
   "cell_type": "code",
   "execution_count": 1,
   "metadata": {},
   "outputs": [],
   "source": [
    "import pandas as pd"
   ]
  },
  {
   "cell_type": "code",
   "execution_count": 15,
   "metadata": {},
   "outputs": [],
   "source": [
    "text = pd.read_csv(\"датасет - хорошие.csv\")"
   ]
  },
  {
   "cell_type": "code",
   "execution_count": 16,
   "metadata": {},
   "outputs": [],
   "source": [
    "new_text = text.iloc[0:29]"
   ]
  },
  {
   "cell_type": "code",
   "execution_count": 19,
   "metadata": {},
   "outputs": [
    {
     "name": "stdout",
     "output_type": "stream",
     "text": [
      "1583\n",
      "2100\n",
      "1287\n",
      "2307\n",
      "1499\n",
      "1596\n",
      "1532\n",
      "1665\n",
      "1415\n",
      "1384\n",
      "1563\n",
      "1602\n",
      "1573\n",
      "1601\n",
      "1800\n",
      "2320\n",
      "1830\n",
      "2163\n",
      "1677\n",
      "1673\n",
      "1870\n",
      "2243\n",
      "1270\n",
      "2034\n",
      "2125\n",
      "2297\n",
      "1544\n",
      "1560\n",
      "1551\n"
     ]
    }
   ],
   "source": [
    "for i in new_text[\"text\"]:\n",
    "    print (len(i))"
   ]
  }
 ],
 "metadata": {
  "kernelspec": {
   "display_name": "Python 3",
   "language": "python",
   "name": "python3"
  },
  "language_info": {
   "codemirror_mode": {
    "name": "ipython",
    "version": 3
   },
   "file_extension": ".py",
   "mimetype": "text/x-python",
   "name": "python",
   "nbconvert_exporter": "python",
   "pygments_lexer": "ipython3",
   "version": "3.11.1"
  }
 },
 "nbformat": 4,
 "nbformat_minor": 2
}
