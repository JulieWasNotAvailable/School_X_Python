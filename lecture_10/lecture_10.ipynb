{
 "cells": [
  {
   "cell_type": "code",
   "execution_count": 8,
   "metadata": {},
   "outputs": [
    {
     "name": "stdout",
     "output_type": "stream",
     "text": [
      "['PassengerId', 'Pclass', 'Name', 'Sex', 'Age', 'SibSp', 'Parch', 'Ticket', 'Fare', 'Cabin', 'Embarked']\n",
      "['892', '3', '\"Kelly', ' Mr. James\"', 'male', '34.5', '0', '0', '330911', '7.8292', '', 'Q']\n",
      "['893', '3', '\"Wilkes', ' Mrs. James (Ellen Needs)\"', 'female', '47', '1', '0', '363272', '7', '', 'S']\n",
      "['894', '2', '\"Myles', ' Mr. Thomas Francis\"', 'male', '62', '0', '0', '240276', '9.6875', '', 'Q']\n",
      "['895', '3', '\"Wirz', ' Mr. Albert\"', 'male', '27', '0', '0', '315154', '8.6625', '', 'S']\n",
      "['896', '3', '\"Hirvonen', ' Mrs. Alexander (Helga E Lindqvist)\"', 'female', '22', '1', '1', '3101298', '12.2875', '', 'S']\n",
      "['897', '3', '\"Svensson', ' Mr. Johan Cervin\"', 'male', '14', '0', '0', '7538', '9.225', '', 'S']\n",
      "['898', '3', '\"Connolly', ' Miss. Kate\"', 'female', '30', '0', '0', '330972', '7.6292', '', 'Q']\n",
      "['899', '2', '\"Caldwell', ' Mr. Albert Francis\"', 'male', '26', '1', '1', '248738', '29', '', 'S']\n",
      "['900', '3', '\"Abrahim', ' Mrs. Joseph (Sophie Halaut Easu)\"', 'female', '18', '0', '0', '2657', '7.2292', '', 'C']\n"
     ]
    }
   ],
   "source": [
    "file = open(\"test.csv\", 'r') #r для read #открыли коннекшн для работы с файлом\n",
    "file_lines = file.readlines()\n",
    "for i in range(10):\n",
    "    print(file_lines[i].strip(\"\\n\").split(\",\"))\n",
    "file.close() #закрыть файл, чтобы коннекшн не оставалсяо ткрытым"
   ]
  },
  {
   "cell_type": "code",
   "execution_count": 2,
   "metadata": {},
   "outputs": [
    {
     "name": "stdout",
     "output_type": "stream",
     "text": [
      "\n",
      "P\n",
      "as\n",
      "sen\n",
      "gerI\n",
      "d,Pcl\n",
      "ass,Na\n",
      "me,Sex,\n",
      "Age,SibS\n",
      "p,Parch,T\n",
      "icket,Fare\n",
      ",Cabin,Emba\n",
      "rked\n",
      "892,3,\"\n",
      "Kelly, Mr. Ja\n",
      "mes\",male,34.5\n",
      ",0,0,330911,7.8\n",
      "292,,Q\n",
      "893,3,\"Wi\n",
      "lkes, Mrs. James \n",
      "(Ellen Needs)\",fem\n",
      "ale,47,1,0,363272,7\n"
     ]
    }
   ],
   "source": [
    "with open(\"test.csv\", \"r\") as file:\n",
    "    for i in range (20):\n",
    "        print(file.read(i))"
   ]
  },
  {
   "cell_type": "code",
   "execution_count": 3,
   "metadata": {},
   "outputs": [],
   "source": [
    "a = int(input(\"1: \"))\n",
    "b = int(input(\"2: \"))\n",
    "\n",
    "with open(\"out.txt\", \"w+\", encoding = \"utf-8\") as wfile: #wfile write file\n",
    "    wfile.write(f\"{a**2}+{b**3} = {a**2 + b**3}\\n\")\n",
    "    wfile.write(f\"{a} + {b} = {a + b}\")\n",
    "# тут больше писать close не нужно\n",
    "# with в конце автоматически закрывает файл"
   ]
  },
  {
   "cell_type": "code",
   "execution_count": 6,
   "metadata": {},
   "outputs": [],
   "source": [
    "with open (\"b_out.txt\", \"wb+\") as wbfile: #wb - бинарный режим\n",
    "    wbfile.write(b\"HELLO BOBBY!!!\") # чтобы написать в бинарном режиме, нужно b перед строкой \n",
    "    # иногда будут ситуации, когда нужно будет бианарный режим"
   ]
  },
  {
   "cell_type": "code",
   "execution_count": null,
   "metadata": {},
   "outputs": [],
   "source": [
    "# кодировка это соотношение букв и чисел, которые за ними стоят\n",
    "# ascii для стандартной латиницы / utf-8 для всего"
   ]
  }
 ],
 "metadata": {
  "kernelspec": {
   "display_name": "Python 3",
   "language": "python",
   "name": "python3"
  },
  "language_info": {
   "codemirror_mode": {
    "name": "ipython",
    "version": 3
   },
   "file_extension": ".py",
   "mimetype": "text/x-python",
   "name": "python",
   "nbconvert_exporter": "python",
   "pygments_lexer": "ipython3",
   "version": "3.11.1"
  }
 },
 "nbformat": 4,
 "nbformat_minor": 2
}
