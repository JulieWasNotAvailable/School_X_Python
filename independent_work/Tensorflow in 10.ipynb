{
 "cells": [
  {
   "cell_type": "markdown",
   "metadata": {},
   "source": [
    "# 0. Import Data"
   ]
  },
  {
   "cell_type": "code",
   "execution_count": null,
   "metadata": {},
   "outputs": [],
   "source": [
    "import pandas as pd\n",
    "from sklearn.model_selection import train_test_split"
   ]
  },
  {
   "cell_type": "code",
   "execution_count": null,
   "metadata": {},
   "outputs": [],
   "source": [
    "df = pd.read_csv('Churn.csv')"
   ]
  },
  {
   "cell_type": "code",
   "execution_count": null,
   "metadata": {},
   "outputs": [],
   "source": [
    "df.head()"
   ]
  },
  {
   "cell_type": "code",
   "execution_count": null,
   "metadata": {},
   "outputs": [],
   "source": [
    "X = pd.get_dummies(df.drop(['Churn', 'Customer ID'], axis=1))\n",
    "y = df['Churn'].apply(lambda x: 1 if x=='Yes' else 0)"
   ]
  },
  {
   "cell_type": "code",
   "execution_count": null,
   "metadata": {},
   "outputs": [],
   "source": [
    "X_train, X_test, y_train, y_test = train_test_split(X, y, test_size=.2)"
   ]
  },
  {
   "cell_type": "code",
   "execution_count": 22,
   "metadata": {},
   "outputs": [
    {
     "data": {
      "text/plain": [
       "False"
      ]
     },
     "execution_count": 22,
     "metadata": {},
     "output_type": "execute_result"
    }
   ],
   "source": [
    "len(X_train.columns) == len(y_train)"
   ]
  },
  {
   "cell_type": "markdown",
   "metadata": {},
   "source": [
    "# 1. Import Dependencies"
   ]
  },
  {
   "cell_type": "code",
   "execution_count": 31,
   "metadata": {},
   "outputs": [],
   "source": [
    "from tensorflow import keras\n",
    "from keras.layers import Dense\n",
    "from keras.models import Sequential, load_model\n",
    "from sklearn.metrics import accuracy_score\n",
    "import tensorflow as tf"
   ]
  },
  {
   "cell_type": "markdown",
   "metadata": {},
   "source": [
    "# 2. Build and Compile Model"
   ]
  },
  {
   "cell_type": "code",
   "execution_count": 78,
   "metadata": {},
   "outputs": [],
   "source": [
    "model = Sequential()\n",
    "model.add(Dense(units=32, activation='relu', input_dim=len(X_train.columns)))\n",
    "model.add(Dense(units=64, activation='relu'))\n",
    "model.add(Dense(units=1, activation='sigmoid'))"
   ]
  },
  {
   "cell_type": "code",
   "execution_count": 79,
   "metadata": {},
   "outputs": [
    {
     "data": {
      "text/plain": [
       "6575"
      ]
     },
     "execution_count": 79,
     "metadata": {},
     "output_type": "execute_result"
    }
   ],
   "source": [
    "len(X_train.columns)"
   ]
  },
  {
   "cell_type": "code",
   "execution_count": 80,
   "metadata": {},
   "outputs": [],
   "source": [
    "model.compile(loss='binary_crossentropy', optimizer='sgd', metrics='accuracy')"
   ]
  },
  {
   "cell_type": "markdown",
   "metadata": {},
   "source": [
    "# 3. Fit, Predict and Evaluate"
   ]
  },
  {
   "cell_type": "code",
   "execution_count": 81,
   "metadata": {},
   "outputs": [
    {
     "data": {
      "text/plain": [
       "(5635, 6575)"
      ]
     },
     "execution_count": 81,
     "metadata": {},
     "output_type": "execute_result"
    }
   ],
   "source": [
    "import numpy as np\n",
    "# tensor1 = tf.convert_to_tensor(X_train)\n",
    "# list = [1,23,6,7,8]\n",
    "# tensor1 = tf.convert_to_tensor(list)\n",
    "tensor_x = np.array(X_train.values,dtype=float)\n",
    "# X_train=np.asarray(X_train).astype(np.int)\n",
    "tensor_y = np.array(y_train.values,dtype=float)\n",
    "# np.array(your_list,dtype=float)\n",
    "test_x = np.array(X_test.values,dtype=float)\n",
    "test_y = np.array(y_test.values,dtype=float)\n",
    "tensor_x.shape"
   ]
  },
  {
   "cell_type": "code",
   "execution_count": 77,
   "metadata": {},
   "outputs": [
    {
     "data": {
      "text/plain": [
       "(5635,)"
      ]
     },
     "execution_count": 77,
     "metadata": {},
     "output_type": "execute_result"
    }
   ],
   "source": [
    "tensor_y.shape"
   ]
  },
  {
   "cell_type": "markdown",
   "metadata": {},
   "source": []
  },
  {
   "cell_type": "code",
   "execution_count": 65,
   "metadata": {
    "collapsed": true
   },
   "outputs": [
    {
     "name": "stdout",
     "output_type": "stream",
     "text": [
      "Epoch 1/200\n",
      "177/177 [==============================] - 2s 5ms/step - loss: 0.5076 - accuracy: 0.7547\n",
      "Epoch 2/200\n",
      "177/177 [==============================] - 1s 5ms/step - loss: 0.4879 - accuracy: 0.7752\n",
      "Epoch 3/200\n",
      "177/177 [==============================] - 1s 6ms/step - loss: 0.4818 - accuracy: 0.7791\n",
      "Epoch 4/200\n",
      "177/177 [==============================] - 1s 5ms/step - loss: 0.4767 - accuracy: 0.7817\n",
      "Epoch 5/200\n",
      "177/177 [==============================] - 1s 7ms/step - loss: 0.4711 - accuracy: 0.7837\n",
      "Epoch 6/200\n",
      "177/177 [==============================] - 1s 6ms/step - loss: 0.4708 - accuracy: 0.7810\n",
      "Epoch 7/200\n",
      "177/177 [==============================] - 1s 6ms/step - loss: 0.4670 - accuracy: 0.7831\n",
      "Epoch 8/200\n",
      "177/177 [==============================] - 1s 6ms/step - loss: 0.4637 - accuracy: 0.7874\n",
      "Epoch 9/200\n",
      "177/177 [==============================] - 1s 6ms/step - loss: 0.4643 - accuracy: 0.7824\n",
      "Epoch 10/200\n",
      "177/177 [==============================] - 1s 6ms/step - loss: 0.4621 - accuracy: 0.7867\n",
      "Epoch 11/200\n",
      "177/177 [==============================] - 1s 6ms/step - loss: 0.4615 - accuracy: 0.7839\n",
      "Epoch 12/200\n",
      "177/177 [==============================] - 1s 7ms/step - loss: 0.4594 - accuracy: 0.7830\n",
      "Epoch 13/200\n",
      "177/177 [==============================] - 1s 7ms/step - loss: 0.4570 - accuracy: 0.7870\n",
      "Epoch 14/200\n",
      "177/177 [==============================] - 1s 5ms/step - loss: 0.4599 - accuracy: 0.7837\n",
      "Epoch 15/200\n",
      "177/177 [==============================] - 1s 6ms/step - loss: 0.4546 - accuracy: 0.7860\n",
      "Epoch 16/200\n",
      "177/177 [==============================] - 1s 6ms/step - loss: 0.4554 - accuracy: 0.7847\n",
      "Epoch 17/200\n",
      "177/177 [==============================] - 1s 5ms/step - loss: 0.4540 - accuracy: 0.7839\n",
      "Epoch 18/200\n",
      "177/177 [==============================] - 1s 7ms/step - loss: 0.4550 - accuracy: 0.7826\n",
      "Epoch 19/200\n",
      "177/177 [==============================] - 1s 7ms/step - loss: 0.4538 - accuracy: 0.7876\n",
      "Epoch 20/200\n",
      "177/177 [==============================] - 1s 6ms/step - loss: 0.4509 - accuracy: 0.7840\n",
      "Epoch 21/200\n",
      "177/177 [==============================] - 1s 6ms/step - loss: 0.4507 - accuracy: 0.7895\n",
      "Epoch 22/200\n",
      "177/177 [==============================] - 1s 6ms/step - loss: 0.4511 - accuracy: 0.7895\n",
      "Epoch 23/200\n",
      "177/177 [==============================] - 1s 7ms/step - loss: 0.4500 - accuracy: 0.7867\n",
      "Epoch 24/200\n",
      "177/177 [==============================] - 1s 6ms/step - loss: 0.4513 - accuracy: 0.7878\n",
      "Epoch 25/200\n",
      "177/177 [==============================] - 1s 5ms/step - loss: 0.4506 - accuracy: 0.7858\n",
      "Epoch 26/200\n",
      "177/177 [==============================] - 1s 5ms/step - loss: 0.4501 - accuracy: 0.7865\n",
      "Epoch 27/200\n",
      "177/177 [==============================] - 1s 6ms/step - loss: 0.4480 - accuracy: 0.7886\n",
      "Epoch 28/200\n",
      "177/177 [==============================] - 1s 7ms/step - loss: 0.4518 - accuracy: 0.7897\n",
      "Epoch 29/200\n",
      "177/177 [==============================] - 1s 7ms/step - loss: 0.4480 - accuracy: 0.7854\n",
      "Epoch 30/200\n",
      "177/177 [==============================] - 1s 7ms/step - loss: 0.4491 - accuracy: 0.7885\n",
      "Epoch 31/200\n",
      "177/177 [==============================] - 1s 7ms/step - loss: 0.4469 - accuracy: 0.7902\n",
      "Epoch 32/200\n",
      "177/177 [==============================] - 1s 6ms/step - loss: 0.4470 - accuracy: 0.7890\n",
      "Epoch 33/200\n",
      "177/177 [==============================] - 1s 7ms/step - loss: 0.4485 - accuracy: 0.7890\n",
      "Epoch 34/200\n",
      "177/177 [==============================] - 1s 6ms/step - loss: 0.4456 - accuracy: 0.7885\n",
      "Epoch 35/200\n",
      "177/177 [==============================] - 1s 6ms/step - loss: 0.4468 - accuracy: 0.7949\n",
      "Epoch 36/200\n",
      "177/177 [==============================] - 1s 5ms/step - loss: 0.4437 - accuracy: 0.7888\n",
      "Epoch 37/200\n",
      "177/177 [==============================] - 1s 6ms/step - loss: 0.4473 - accuracy: 0.7886\n",
      "Epoch 38/200\n",
      "177/177 [==============================] - 1s 6ms/step - loss: 0.4474 - accuracy: 0.7876\n",
      "Epoch 39/200\n",
      "177/177 [==============================] - 1s 6ms/step - loss: 0.4460 - accuracy: 0.7890\n",
      "Epoch 40/200\n",
      "177/177 [==============================] - 1s 7ms/step - loss: 0.4455 - accuracy: 0.7922\n",
      "Epoch 41/200\n",
      "177/177 [==============================] - 1s 6ms/step - loss: 0.4421 - accuracy: 0.7924\n",
      "Epoch 42/200\n",
      "177/177 [==============================] - 1s 7ms/step - loss: 0.4438 - accuracy: 0.7963\n",
      "Epoch 43/200\n",
      "177/177 [==============================] - 1s 6ms/step - loss: 0.4456 - accuracy: 0.7899\n",
      "Epoch 44/200\n",
      "177/177 [==============================] - 1s 6ms/step - loss: 0.4408 - accuracy: 0.7909\n",
      "Epoch 45/200\n",
      "177/177 [==============================] - 1s 6ms/step - loss: 0.4428 - accuracy: 0.7904\n",
      "Epoch 46/200\n",
      "177/177 [==============================] - 1s 6ms/step - loss: 0.4423 - accuracy: 0.7936\n",
      "Epoch 47/200\n",
      "177/177 [==============================] - 1s 6ms/step - loss: 0.4425 - accuracy: 0.7906\n",
      "Epoch 48/200\n",
      "177/177 [==============================] - 1s 6ms/step - loss: 0.4438 - accuracy: 0.7906\n",
      "Epoch 49/200\n",
      "177/177 [==============================] - 1s 7ms/step - loss: 0.4408 - accuracy: 0.7906\n",
      "Epoch 50/200\n",
      "177/177 [==============================] - 1s 7ms/step - loss: 0.4404 - accuracy: 0.7931\n",
      "Epoch 51/200\n",
      "177/177 [==============================] - 1s 6ms/step - loss: 0.4409 - accuracy: 0.7872\n",
      "Epoch 52/200\n",
      "177/177 [==============================] - 1s 6ms/step - loss: 0.4385 - accuracy: 0.7963\n",
      "Epoch 53/200\n",
      "177/177 [==============================] - 1s 6ms/step - loss: 0.4439 - accuracy: 0.7909\n",
      "Epoch 54/200\n",
      "177/177 [==============================] - 1s 4ms/step - loss: 0.4408 - accuracy: 0.7915\n",
      "Epoch 55/200\n",
      "177/177 [==============================] - 1s 5ms/step - loss: 0.4424 - accuracy: 0.7876\n",
      "Epoch 56/200\n",
      "177/177 [==============================] - 1s 6ms/step - loss: 0.4390 - accuracy: 0.7915\n",
      "Epoch 57/200\n",
      "177/177 [==============================] - 1s 6ms/step - loss: 0.4395 - accuracy: 0.7894\n",
      "Epoch 58/200\n",
      "177/177 [==============================] - 1s 5ms/step - loss: 0.4486 - accuracy: 0.7886\n",
      "Epoch 59/200\n",
      "177/177 [==============================] - 1s 5ms/step - loss: 0.4418 - accuracy: 0.7901\n",
      "Epoch 60/200\n",
      "177/177 [==============================] - 1s 6ms/step - loss: 0.4392 - accuracy: 0.7899\n",
      "Epoch 61/200\n",
      "177/177 [==============================] - 1s 6ms/step - loss: 0.4349 - accuracy: 0.7959\n",
      "Epoch 62/200\n",
      "177/177 [==============================] - 1s 6ms/step - loss: 0.4378 - accuracy: 0.7920\n",
      "Epoch 63/200\n",
      "177/177 [==============================] - 1s 6ms/step - loss: 0.4371 - accuracy: 0.7924\n",
      "Epoch 64/200\n",
      "177/177 [==============================] - 1s 8ms/step - loss: 0.4354 - accuracy: 0.7936\n",
      "Epoch 65/200\n",
      "177/177 [==============================] - 1s 7ms/step - loss: 0.4373 - accuracy: 0.7966\n",
      "Epoch 66/200\n",
      "177/177 [==============================] - 1s 7ms/step - loss: 0.4399 - accuracy: 0.7911\n",
      "Epoch 67/200\n",
      "177/177 [==============================] - 1s 6ms/step - loss: 0.4369 - accuracy: 0.7956\n",
      "Epoch 68/200\n",
      "177/177 [==============================] - 1s 6ms/step - loss: 0.4382 - accuracy: 0.7931\n",
      "Epoch 69/200\n",
      "177/177 [==============================] - 1s 6ms/step - loss: 0.4421 - accuracy: 0.7901\n",
      "Epoch 70/200\n",
      "177/177 [==============================] - 1s 5ms/step - loss: 0.4368 - accuracy: 0.7940\n",
      "Epoch 71/200\n",
      "177/177 [==============================] - 1s 5ms/step - loss: 0.4395 - accuracy: 0.7899\n",
      "Epoch 72/200\n",
      "177/177 [==============================] - 1s 6ms/step - loss: 0.4344 - accuracy: 0.7954\n",
      "Epoch 73/200\n",
      "177/177 [==============================] - 1s 6ms/step - loss: 0.4341 - accuracy: 0.7938\n",
      "Epoch 74/200\n",
      "177/177 [==============================] - 1s 6ms/step - loss: 0.4370 - accuracy: 0.7968\n",
      "Epoch 75/200\n",
      "177/177 [==============================] - 1s 6ms/step - loss: 0.4325 - accuracy: 0.7933\n",
      "Epoch 76/200\n",
      "177/177 [==============================] - 1s 6ms/step - loss: 0.4411 - accuracy: 0.7913\n",
      "Epoch 77/200\n",
      "177/177 [==============================] - 1s 7ms/step - loss: 0.4323 - accuracy: 0.7918\n",
      "Epoch 78/200\n",
      "177/177 [==============================] - 1s 5ms/step - loss: 0.4342 - accuracy: 0.7897\n",
      "Epoch 79/200\n",
      "177/177 [==============================] - 1s 6ms/step - loss: 0.4450 - accuracy: 0.7940\n",
      "Epoch 80/200\n",
      "177/177 [==============================] - 1s 5ms/step - loss: 0.4380 - accuracy: 0.7959\n",
      "Epoch 81/200\n",
      "177/177 [==============================] - 1s 4ms/step - loss: 0.4374 - accuracy: 0.7911\n",
      "Epoch 82/200\n",
      "177/177 [==============================] - 1s 4ms/step - loss: 0.4323 - accuracy: 0.7972\n",
      "Epoch 83/200\n",
      "177/177 [==============================] - 1s 5ms/step - loss: 0.4329 - accuracy: 0.7949\n",
      "Epoch 84/200\n",
      "177/177 [==============================] - 1s 5ms/step - loss: 0.4331 - accuracy: 0.7996\n",
      "Epoch 85/200\n",
      "177/177 [==============================] - 1s 5ms/step - loss: 0.4330 - accuracy: 0.7984\n",
      "Epoch 86/200\n",
      "177/177 [==============================] - 1s 6ms/step - loss: 0.4330 - accuracy: 0.7927\n",
      "Epoch 87/200\n",
      "177/177 [==============================] - 1s 6ms/step - loss: 0.4312 - accuracy: 0.7943\n",
      "Epoch 88/200\n",
      "177/177 [==============================] - 1s 5ms/step - loss: 0.4346 - accuracy: 0.7975\n",
      "Epoch 89/200\n",
      "177/177 [==============================] - 1s 6ms/step - loss: 0.4317 - accuracy: 0.7970\n",
      "Epoch 90/200\n",
      "177/177 [==============================] - 1s 5ms/step - loss: 0.4338 - accuracy: 0.7980\n",
      "Epoch 91/200\n",
      "177/177 [==============================] - 1s 6ms/step - loss: 0.4316 - accuracy: 0.7959\n",
      "Epoch 92/200\n",
      "177/177 [==============================] - 1s 5ms/step - loss: 0.4286 - accuracy: 0.7972\n",
      "Epoch 93/200\n",
      "177/177 [==============================] - 1s 6ms/step - loss: 0.4329 - accuracy: 0.7933\n",
      "Epoch 94/200\n",
      "177/177 [==============================] - 1s 6ms/step - loss: 0.4321 - accuracy: 0.7980\n",
      "Epoch 95/200\n",
      "177/177 [==============================] - 1s 5ms/step - loss: 0.4349 - accuracy: 0.7929\n",
      "Epoch 96/200\n",
      "177/177 [==============================] - 1s 4ms/step - loss: 0.4324 - accuracy: 0.7977\n",
      "Epoch 97/200\n",
      "177/177 [==============================] - 1s 5ms/step - loss: 0.4289 - accuracy: 0.8016\n",
      "Epoch 98/200\n",
      "177/177 [==============================] - 1s 5ms/step - loss: 0.4339 - accuracy: 0.7940\n",
      "Epoch 99/200\n",
      "177/177 [==============================] - 1s 4ms/step - loss: 0.4316 - accuracy: 0.7924\n",
      "Epoch 100/200\n",
      "177/177 [==============================] - 1s 5ms/step - loss: 0.4327 - accuracy: 0.7968\n",
      "Epoch 101/200\n",
      "177/177 [==============================] - 1s 6ms/step - loss: 0.4320 - accuracy: 0.7938\n",
      "Epoch 102/200\n",
      "177/177 [==============================] - 1s 6ms/step - loss: 0.4301 - accuracy: 0.7988\n",
      "Epoch 103/200\n",
      "177/177 [==============================] - 1s 5ms/step - loss: 0.4296 - accuracy: 0.7984\n",
      "Epoch 104/200\n",
      "177/177 [==============================] - 1s 5ms/step - loss: 0.4314 - accuracy: 0.7966\n",
      "Epoch 105/200\n",
      "177/177 [==============================] - 1s 4ms/step - loss: 0.4282 - accuracy: 0.7977\n",
      "Epoch 106/200\n",
      "177/177 [==============================] - 1s 4ms/step - loss: 0.4271 - accuracy: 0.7993\n",
      "Epoch 107/200\n",
      "177/177 [==============================] - 1s 6ms/step - loss: 0.4282 - accuracy: 0.7947\n",
      "Epoch 108/200\n",
      "177/177 [==============================] - 1s 5ms/step - loss: 0.4286 - accuracy: 0.7963\n",
      "Epoch 109/200\n",
      "177/177 [==============================] - 1s 6ms/step - loss: 0.4297 - accuracy: 0.7959\n",
      "Epoch 110/200\n",
      "177/177 [==============================] - 1s 6ms/step - loss: 0.4287 - accuracy: 0.7973\n",
      "Epoch 111/200\n",
      "177/177 [==============================] - 1s 5ms/step - loss: 0.4280 - accuracy: 0.7959\n",
      "Epoch 112/200\n",
      "177/177 [==============================] - 1s 6ms/step - loss: 0.4313 - accuracy: 0.7945\n",
      "Epoch 113/200\n",
      "177/177 [==============================] - 1s 6ms/step - loss: 0.4287 - accuracy: 0.7970\n",
      "Epoch 114/200\n",
      "177/177 [==============================] - 1s 7ms/step - loss: 0.4281 - accuracy: 0.7996\n",
      "Epoch 115/200\n",
      "177/177 [==============================] - 1s 6ms/step - loss: 0.4284 - accuracy: 0.7970\n",
      "Epoch 116/200\n",
      "177/177 [==============================] - 1s 6ms/step - loss: 0.4302 - accuracy: 0.7973\n",
      "Epoch 117/200\n",
      "177/177 [==============================] - 1s 6ms/step - loss: 0.4339 - accuracy: 0.7941\n",
      "Epoch 118/200\n",
      "177/177 [==============================] - 1s 6ms/step - loss: 0.4298 - accuracy: 0.7970\n",
      "Epoch 119/200\n",
      "177/177 [==============================] - 1s 5ms/step - loss: 0.4285 - accuracy: 0.7922\n",
      "Epoch 120/200\n",
      "177/177 [==============================] - 1s 6ms/step - loss: 0.4274 - accuracy: 0.7965\n",
      "Epoch 121/200\n",
      "177/177 [==============================] - 1s 7ms/step - loss: 0.4256 - accuracy: 0.7977\n",
      "Epoch 122/200\n",
      "177/177 [==============================] - 1s 7ms/step - loss: 0.4285 - accuracy: 0.7984\n",
      "Epoch 123/200\n",
      "177/177 [==============================] - 1s 6ms/step - loss: 0.4276 - accuracy: 0.8007\n",
      "Epoch 124/200\n",
      "177/177 [==============================] - 1s 7ms/step - loss: 0.4296 - accuracy: 0.7950\n",
      "Epoch 125/200\n",
      "177/177 [==============================] - 1s 7ms/step - loss: 0.4259 - accuracy: 0.7993\n",
      "Epoch 126/200\n",
      "177/177 [==============================] - 1s 7ms/step - loss: 0.4285 - accuracy: 0.7949\n",
      "Epoch 127/200\n",
      "177/177 [==============================] - 1s 7ms/step - loss: 0.4277 - accuracy: 0.7972\n",
      "Epoch 128/200\n",
      "177/177 [==============================] - 1s 7ms/step - loss: 0.4267 - accuracy: 0.7980\n",
      "Epoch 129/200\n",
      "177/177 [==============================] - 1s 7ms/step - loss: 0.4246 - accuracy: 0.7995\n",
      "Epoch 130/200\n",
      "177/177 [==============================] - 1s 7ms/step - loss: 0.4276 - accuracy: 0.7966\n",
      "Epoch 131/200\n",
      "177/177 [==============================] - 1s 7ms/step - loss: 0.4285 - accuracy: 0.7995\n",
      "Epoch 132/200\n",
      "177/177 [==============================] - 1s 7ms/step - loss: 0.4291 - accuracy: 0.8004\n",
      "Epoch 133/200\n",
      "177/177 [==============================] - 1s 7ms/step - loss: 0.4264 - accuracy: 0.7963\n",
      "Epoch 134/200\n",
      "177/177 [==============================] - 1s 7ms/step - loss: 0.4256 - accuracy: 0.8016\n",
      "Epoch 135/200\n",
      "177/177 [==============================] - 1s 7ms/step - loss: 0.4257 - accuracy: 0.7989\n",
      "Epoch 136/200\n",
      "177/177 [==============================] - 1s 7ms/step - loss: 0.4296 - accuracy: 0.7970\n",
      "Epoch 137/200\n",
      "177/177 [==============================] - 1s 7ms/step - loss: 0.4258 - accuracy: 0.7996\n",
      "Epoch 138/200\n",
      "177/177 [==============================] - 1s 7ms/step - loss: 0.4275 - accuracy: 0.7963\n",
      "Epoch 139/200\n",
      "177/177 [==============================] - 1s 6ms/step - loss: 0.4280 - accuracy: 0.7965\n",
      "Epoch 140/200\n",
      "177/177 [==============================] - 1s 6ms/step - loss: 0.4250 - accuracy: 0.7986\n",
      "Epoch 141/200\n",
      "177/177 [==============================] - 1s 7ms/step - loss: 0.4326 - accuracy: 0.7998\n",
      "Epoch 142/200\n",
      "177/177 [==============================] - 1s 7ms/step - loss: 0.4269 - accuracy: 0.8007\n",
      "Epoch 143/200\n",
      "177/177 [==============================] - 1s 6ms/step - loss: 0.4273 - accuracy: 0.8014\n",
      "Epoch 144/200\n",
      "177/177 [==============================] - 1s 6ms/step - loss: 0.4254 - accuracy: 0.7947\n",
      "Epoch 145/200\n",
      "177/177 [==============================] - 1s 7ms/step - loss: 0.4268 - accuracy: 0.8011\n",
      "Epoch 146/200\n",
      "177/177 [==============================] - 1s 7ms/step - loss: 0.4242 - accuracy: 0.7934\n",
      "Epoch 147/200\n",
      "177/177 [==============================] - 1s 7ms/step - loss: 0.4288 - accuracy: 0.8023\n",
      "Epoch 148/200\n",
      "177/177 [==============================] - 1s 7ms/step - loss: 0.4261 - accuracy: 0.7991\n",
      "Epoch 149/200\n",
      "177/177 [==============================] - 1s 7ms/step - loss: 0.4253 - accuracy: 0.7982\n",
      "Epoch 150/200\n",
      "177/177 [==============================] - 1s 6ms/step - loss: 0.4264 - accuracy: 0.7979\n",
      "Epoch 151/200\n",
      "177/177 [==============================] - 1s 7ms/step - loss: 0.4225 - accuracy: 0.8025\n",
      "Epoch 152/200\n",
      "177/177 [==============================] - 1s 7ms/step - loss: 0.4246 - accuracy: 0.7957\n",
      "Epoch 153/200\n",
      "177/177 [==============================] - 1s 6ms/step - loss: 0.4255 - accuracy: 0.8021\n",
      "Epoch 154/200\n",
      "177/177 [==============================] - 1s 7ms/step - loss: 0.4262 - accuracy: 0.8009\n",
      "Epoch 155/200\n",
      "177/177 [==============================] - 1s 7ms/step - loss: 0.4216 - accuracy: 0.7996\n",
      "Epoch 156/200\n",
      "177/177 [==============================] - 1s 6ms/step - loss: 0.4244 - accuracy: 0.7993\n",
      "Epoch 157/200\n",
      "177/177 [==============================] - 1s 6ms/step - loss: 0.4244 - accuracy: 0.7996\n",
      "Epoch 158/200\n",
      "177/177 [==============================] - 1s 7ms/step - loss: 0.4249 - accuracy: 0.8028\n",
      "Epoch 159/200\n",
      "177/177 [==============================] - 1s 6ms/step - loss: 0.4245 - accuracy: 0.7949\n",
      "Epoch 160/200\n",
      "177/177 [==============================] - 1s 6ms/step - loss: 0.4234 - accuracy: 0.8018\n",
      "Epoch 161/200\n",
      "177/177 [==============================] - 1s 7ms/step - loss: 0.4234 - accuracy: 0.8039\n",
      "Epoch 162/200\n",
      "177/177 [==============================] - 1s 7ms/step - loss: 0.4239 - accuracy: 0.8034\n",
      "Epoch 163/200\n",
      "177/177 [==============================] - 1s 7ms/step - loss: 0.4246 - accuracy: 0.8020\n",
      "Epoch 164/200\n",
      "177/177 [==============================] - 1s 7ms/step - loss: 0.4236 - accuracy: 0.8025\n",
      "Epoch 165/200\n",
      "177/177 [==============================] - 1s 7ms/step - loss: 0.4223 - accuracy: 0.8021\n",
      "Epoch 166/200\n",
      "177/177 [==============================] - 1s 5ms/step - loss: 0.4241 - accuracy: 0.8007\n",
      "Epoch 167/200\n",
      "177/177 [==============================] - 1s 5ms/step - loss: 0.4239 - accuracy: 0.8004\n",
      "Epoch 168/200\n",
      "177/177 [==============================] - 1s 5ms/step - loss: 0.4239 - accuracy: 0.7956\n",
      "Epoch 169/200\n",
      "177/177 [==============================] - 1s 5ms/step - loss: 0.4248 - accuracy: 0.8000\n",
      "Epoch 170/200\n",
      "177/177 [==============================] - 1s 6ms/step - loss: 0.4225 - accuracy: 0.7954\n",
      "Epoch 171/200\n",
      "177/177 [==============================] - 1s 6ms/step - loss: 0.4249 - accuracy: 0.7989\n",
      "Epoch 172/200\n",
      "177/177 [==============================] - 1s 6ms/step - loss: 0.4254 - accuracy: 0.7977\n",
      "Epoch 173/200\n",
      "177/177 [==============================] - 1s 5ms/step - loss: 0.4247 - accuracy: 0.8007\n",
      "Epoch 174/200\n",
      "177/177 [==============================] - 1s 5ms/step - loss: 0.4219 - accuracy: 0.8002\n",
      "Epoch 175/200\n",
      "177/177 [==============================] - 1s 5ms/step - loss: 0.4244 - accuracy: 0.8027\n",
      "Epoch 176/200\n",
      "177/177 [==============================] - 1s 5ms/step - loss: 0.4222 - accuracy: 0.8034\n",
      "Epoch 177/200\n",
      "177/177 [==============================] - 1s 5ms/step - loss: 0.4235 - accuracy: 0.8005\n",
      "Epoch 178/200\n",
      "177/177 [==============================] - 1s 6ms/step - loss: 0.4215 - accuracy: 0.8018\n",
      "Epoch 179/200\n",
      "177/177 [==============================] - 1s 6ms/step - loss: 0.4252 - accuracy: 0.8027\n",
      "Epoch 180/200\n",
      "177/177 [==============================] - 1s 5ms/step - loss: 0.4229 - accuracy: 0.7977\n",
      "Epoch 181/200\n",
      "177/177 [==============================] - 1s 5ms/step - loss: 0.4226 - accuracy: 0.8004\n",
      "Epoch 182/200\n",
      "177/177 [==============================] - 1s 5ms/step - loss: 0.4223 - accuracy: 0.8005\n",
      "Epoch 183/200\n",
      "177/177 [==============================] - 1s 4ms/step - loss: 0.4273 - accuracy: 0.7956\n",
      "Epoch 184/200\n",
      "177/177 [==============================] - 1s 4ms/step - loss: 0.4220 - accuracy: 0.8021\n",
      "Epoch 185/200\n",
      "177/177 [==============================] - 1s 6ms/step - loss: 0.4231 - accuracy: 0.7984\n",
      "Epoch 186/200\n",
      "177/177 [==============================] - 1s 5ms/step - loss: 0.4220 - accuracy: 0.8025\n",
      "Epoch 187/200\n",
      "177/177 [==============================] - 1s 5ms/step - loss: 0.4248 - accuracy: 0.8034\n",
      "Epoch 188/200\n",
      "177/177 [==============================] - 1s 5ms/step - loss: 0.4265 - accuracy: 0.8023\n",
      "Epoch 189/200\n",
      "177/177 [==============================] - 1s 5ms/step - loss: 0.4219 - accuracy: 0.8014\n",
      "Epoch 190/200\n",
      "177/177 [==============================] - 1s 4ms/step - loss: 0.4227 - accuracy: 0.8011\n",
      "Epoch 191/200\n",
      "177/177 [==============================] - 1s 5ms/step - loss: 0.4219 - accuracy: 0.8046\n",
      "Epoch 192/200\n",
      "177/177 [==============================] - 1s 5ms/step - loss: 0.4253 - accuracy: 0.8000\n",
      "Epoch 193/200\n",
      "177/177 [==============================] - 1s 5ms/step - loss: 0.4212 - accuracy: 0.8020\n",
      "Epoch 194/200\n",
      "177/177 [==============================] - 1s 6ms/step - loss: 0.4223 - accuracy: 0.7984\n",
      "Epoch 195/200\n",
      "177/177 [==============================] - 1s 5ms/step - loss: 0.4222 - accuracy: 0.8002\n",
      "Epoch 196/200\n",
      "177/177 [==============================] - 1s 6ms/step - loss: 0.4223 - accuracy: 0.8012\n",
      "Epoch 197/200\n",
      "177/177 [==============================] - 1s 6ms/step - loss: 0.4265 - accuracy: 0.8005\n",
      "Epoch 198/200\n",
      "177/177 [==============================] - 1s 5ms/step - loss: 0.4228 - accuracy: 0.7977\n",
      "Epoch 199/200\n",
      "177/177 [==============================] - 1s 6ms/step - loss: 0.4236 - accuracy: 0.8025\n",
      "Epoch 200/200\n",
      "177/177 [==============================] - 1s 6ms/step - loss: 0.4227 - accuracy: 0.8012\n"
     ]
    },
    {
     "data": {
      "text/plain": [
       "<keras.src.callbacks.History at 0x1a73e1c7d10>"
      ]
     },
     "execution_count": 65,
     "metadata": {},
     "output_type": "execute_result"
    }
   ],
   "source": [
    "model.fit(tensor_x, tensor_y, epochs=200, batch_size=32)"
   ]
  },
  {
   "cell_type": "code",
   "execution_count": 69,
   "metadata": {},
   "outputs": [
    {
     "name": "stdout",
     "output_type": "stream",
     "text": [
      "45/45 [==============================] - 0s 2ms/step\n"
     ]
    }
   ],
   "source": [
    "y_hat = model.predict(test_x)\n",
    "y_hat = [0 if val < 0.5 else 1 for val in y_hat]"
   ]
  },
  {
   "cell_type": "code",
   "execution_count": 70,
   "metadata": {},
   "outputs": [
    {
     "data": {
      "text/plain": [
       "0.7906316536550745"
      ]
     },
     "execution_count": 70,
     "metadata": {},
     "output_type": "execute_result"
    }
   ],
   "source": [
    "accuracy_score(y_test, y_hat)"
   ]
  },
  {
   "cell_type": "markdown",
   "metadata": {},
   "source": [
    "# 4. Saving and Reloading"
   ]
  },
  {
   "cell_type": "code",
   "execution_count": null,
   "metadata": {
    "collapsed": true
   },
   "outputs": [],
   "source": [
    "model.save('tfmodel')"
   ]
  },
  {
   "cell_type": "code",
   "execution_count": null,
   "metadata": {},
   "outputs": [],
   "source": [
    "del model "
   ]
  },
  {
   "cell_type": "code",
   "execution_count": null,
   "metadata": {},
   "outputs": [],
   "source": [
    "model = load_model('tfmodel')"
   ]
  }
 ],
 "metadata": {
  "kernelspec": {
   "display_name": "Python 3",
   "language": "python",
   "name": "python3"
  },
  "language_info": {
   "codemirror_mode": {
    "name": "ipython",
    "version": 3
   },
   "file_extension": ".py",
   "mimetype": "text/x-python",
   "name": "python",
   "nbconvert_exporter": "python",
   "pygments_lexer": "ipython3",
   "version": "3.11.1"
  }
 },
 "nbformat": 4,
 "nbformat_minor": 2
}
