{
 "cells": [
  {
   "cell_type": "code",
   "execution_count": 3,
   "metadata": {},
   "outputs": [],
   "source": [
    "import pandas as pd\n",
    "import matplotlib as plt\n",
    "import torch\n",
    "import torch.nn as nn"
   ]
  },
  {
   "cell_type": "code",
   "execution_count": 4,
   "metadata": {},
   "outputs": [
    {
     "data": {
      "text/plain": [
       "tensor([ 1,  2, 32, 45], dtype=torch.int32)"
      ]
     },
     "execution_count": 4,
     "metadata": {},
     "output_type": "execute_result"
    }
   ],
   "source": [
    "#длина высота количество цветовых фильтров\n",
    "a = torch.IntTensor([1,2,32,45,])\n",
    "a"
   ]
  },
  {
   "cell_type": "code",
   "execution_count": 8,
   "metadata": {},
   "outputs": [],
   "source": [
    "a = torch.tensor([1,2,32,45])\n",
    "#не задали тип, можем задать потом, как надо будет\n",
    "\n",
    "b = torch.rand((1,4))\n",
    "#создание случайного вектора с нужной нам размерностью\n",
    "#используется при инициализации весов"
   ]
  },
  {
   "cell_type": "code",
   "execution_count": null,
   "metadata": {},
   "outputs": [],
   "source": [
    "a @ b"
   ]
  },
  {
   "cell_type": "code",
   "execution_count": null,
   "metadata": {},
   "outputs": [],
   "source": [
    "a.size() #метод\n",
    "a.shape #атрибут"
   ]
  },
  {
   "cell_type": "code",
   "execution_count": 11,
   "metadata": {},
   "outputs": [
    {
     "data": {
      "text/plain": [
       "torch.Size([1, 4])"
      ]
     },
     "execution_count": 11,
     "metadata": {},
     "output_type": "execute_result"
    }
   ],
   "source": [
    "a[None, :].shape"
   ]
  },
  {
   "cell_type": "code",
   "execution_count": 10,
   "metadata": {},
   "outputs": [
    {
     "data": {
      "text/plain": [
       "torch.Size([4, 1])"
      ]
     },
     "execution_count": 10,
     "metadata": {},
     "output_type": "execute_result"
    }
   ],
   "source": [
    "a.view(-1, 1).shape\n",
    "#можно даже из вектора 1х4 сделать 2х2"
   ]
  },
  {
   "cell_type": "code",
   "execution_count": null,
   "metadata": {},
   "outputs": [],
   "source": [
    "torch.Tensor(df.loc[1][:-1].to_numpy().astype(\"float32\"))\n",
    "#всегда указываем float32, -1 сберёт элементы до последнего, to_numpy конвертирует"
   ]
  },
  {
   "cell_type": "markdown",
   "metadata": {},
   "source": [
    "лин мод обладает весами, инит хранит инфу \n",
    "32 - параметр, который мы должны нащупывать сами и принято использовать степени двойки\n",
    "__len__ - чтобы понимать, сколько объектов в строке\n",
    "\n",
    "getiitem - описываем, как возвращаем в этот обхект\n",
    "нашли строчку, преобращовали в нупай, убрали таргет,\n",
    "преобразовали строчные значения в классовые\n",
    "\n",
    "саммари - помогает построить модель графически и понять, что в ней происходит\n",
    "есть слой линеар 160 параметров\n",
    "есть линеар ещё 99 параметров\n",
    "\n",
    "dataloader отвечает за то, как данные будут подаваться в модель\n",
    "принимает на вход датасет, batch_size - сколько будет объектов, shuffle - берёт даннные более рандомно, good practice \n",
    "\n",
    "dataset- для одного\n",
    "dataloader за множество\n",
    "возвращет параметры и ответы\n",
    "\n",
    "проталкиваем данные, сеть говорит вердикт, строит градиент по ошибке, потом обратное распространение ошибки \n",
    "\n",
    "train_one_epoch(epoch, trainloader, optimizer, model, criterion ТУТ ДОЛЖНО БЫТЬ loss, dataset):\n",
    "trainloader - овзвращает обзхекты пачками\n",
    "optimzier - тэо когда мы из старых весов чичитам градиент и рамсчитываем новые весы\n",
    "model - матмодель для пропихивания данных\n",
    "dataset - один обхект из нашего множества\n",
    "    correct = 0\n",
    "    epoch_loss \n",
    "    frainloder итерируем, начинаем по нему ходить, индекс, и элемент, под индексом которого лежит множество\n",
    "    x y из trainloader'a \n",
    "    optimizer.zero_grad зануляем, чтобы не запоминал\n",
    "    outputs = model(x)\n",
    "    потом передаём это в фукнцию ошибки loss\n",
    "    pytorch считает производные сам\n",
    "    loss.backward() считает производную, градиент каждого жлемента\n",
    "    epoch_loss переменная для себя, для ошибки \n",
    "    optimizer_step - чтобы в зависимсоит от опт основную функцию\n",
    "    совершает ход, из старых w значения частных производных \n",
    "\n",
    "eval - summary, но без подробного описания "
   ]
  },
  {
   "cell_type": "markdown",
   "metadata": {},
   "source": []
  }
 ],
 "metadata": {
  "kernelspec": {
   "display_name": "Python 3",
   "language": "python",
   "name": "python3"
  },
  "language_info": {
   "codemirror_mode": {
    "name": "ipython",
    "version": 3
   },
   "file_extension": ".py",
   "mimetype": "text/x-python",
   "name": "python",
   "nbconvert_exporter": "python",
   "pygments_lexer": "ipython3",
   "version": "3.11.1"
  }
 },
 "nbformat": 4,
 "nbformat_minor": 2
}
