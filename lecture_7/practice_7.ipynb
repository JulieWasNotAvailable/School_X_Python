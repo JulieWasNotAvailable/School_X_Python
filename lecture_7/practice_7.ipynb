{
 "cells": [
  {
   "cell_type": "code",
   "execution_count": 3,
   "id": "d2d1f81b-6c97-4b5c-96aa-d0b43241ebe8",
   "metadata": {
    "editable": true,
    "slideshow": {
     "slide_type": ""
    },
    "tags": []
   },
   "outputs": [],
   "source": [
    "class Character:\n",
    "    \n",
    "    def __init__(\n",
    "        self,\n",
    "        name: str = \"\",\n",
    "        human: bool = True,\n",
    "        hair_colour: str = \"\",\n",
    "        weapons: list = [],\n",
    "        special_feature: str = \"\"\n",
    "    ):\n",
    "        self.name: str = name\n",
    "        self.human: bool = human\n",
    "        self.hair_colour: str = hair_colour\n",
    "        self.weapons: list = weapons\n",
    "        self.special_feature: str = special_feature"
   ]
  },
  {
   "cell_type": "code",
   "execution_count": 4,
   "id": "9a51ef31-9d40-4f03-ac7e-c83698d11dfa",
   "metadata": {
    "jupyter": {
     "source_hidden": true
    }
   },
   "outputs": [],
   "source": [
    "class Playable:\n",
    "\n",
    "    movements = {\"up\", \"down\", \"right\", \"left\"}\n",
    "    emotions = {\"waves a hand\", \"one more\", \"let's be friends\"}\n",
    "    \n",
    "    def move(direction: str):\n",
    "        movements = {\"up\", \"down\", \"right\", \"left\"}\n",
    "        if direction in movements:\n",
    "            print(f'Move {direction}')\n",
    "        else:\n",
    "            print(f'Can\\'t move {direction}')\n",
    "            \n",
    "    def emote(emo: str):\n",
    "        emotions = {\"waves a hand\", \"one more\", \"let's be friends\"}\n",
    "        if emo in emotions:\n",
    "            print (emo)\n",
    "        else:\n",
    "            print(\"Can't emote\")        "
   ]
  },
  {
   "cell_type": "code",
   "execution_count": 5,
   "id": "26855377-c468-40f7-a963-db9675394d0e",
   "metadata": {},
   "outputs": [],
   "source": [
    "class FunkoPop():\n",
    "\n",
    "    def stand_on_shelf():\n",
    "        print(\"I'm standing on the shelf\")\n",
    "\n",
    "    def drown():\n",
    "        print(\"Shouldn't have thrown me into the river.. *blob-blob*\")"
   ]
  },
  {
   "cell_type": "code",
   "execution_count": 4,
   "id": "4d368d05-b834-45ed-b288-2f9ee84fe137",
   "metadata": {
    "editable": true,
    "slideshow": {
     "slide_type": ""
    },
    "tags": []
   },
   "outputs": [],
   "source": [
    "class MirageCharacter(Character):\n",
    "\n",
    "    name: str = \"Mirage\"\n",
    "    human: bool = True\n",
    "    hair_colour: str = \"black\"\n",
    "    weapons: list = [\"spear\", \"scythe\"]\n",
    "    special_feature: str = \"sand\" "
   ]
  },
  {
   "cell_type": "code",
   "execution_count": 5,
   "id": "3a5a7f27-829e-4b65-8ec7-4846983b064d",
   "metadata": {},
   "outputs": [],
   "source": [
    "class MiragePlayable(MirageCharacter, Playable):\n",
    "\n",
    "    def sand_attack():\n",
    "        print(\"Mirage attacks with a sandstorm\")\n",
    "        \n",
    "    def sand_speacial_attack():\n",
    "        print(\"Mirage dissapears in the dark\")   "
   ]
  },
  {
   "cell_type": "code",
   "execution_count": 6,
   "id": "e1c7a1a0-3da6-498a-b2fe-588c476dacf8",
   "metadata": {},
   "outputs": [],
   "source": [
    "class MiragePop(MirageCharacter, FunkoPop):\n",
    "\n",
    "    def mysterious_look():\n",
    "        print (\"MiragePop looks misteriously\")"
   ]
  },
  {
   "cell_type": "code",
   "execution_count": 7,
   "id": "f4275f5a-a83c-475a-ab98-33f0c1368c7b",
   "metadata": {},
   "outputs": [],
   "source": [
    "class KayaCharacter(Character):\n",
    "\n",
    "    name: str = \"Kaya\"\n",
    "    human: bool = True\n",
    "    hair_colour: str = \"Black\"\n",
    "    weapons: list = [\"spear\", \"bow\"]\n",
    "    special_feature: str = \"ice\""
   ]
  },
  {
   "cell_type": "code",
   "execution_count": 8,
   "id": "52ef7c41-d97b-4dba-958b-af22bdb4d368",
   "metadata": {},
   "outputs": [],
   "source": [
    "class KayaPlayable(KayaCharacter, Playable):\n",
    "\n",
    "    def ice_attack():\n",
    "        print(\"Kaya attacks with an icy beast!\")\n",
    "        \n",
    "    def ice_heavy_attack():\n",
    "        print(\"Kaya freezes to death\")    "
   ]
  },
  {
   "cell_type": "code",
   "execution_count": 9,
   "id": "73866d66-1d1b-4c11-aa81-38b0d4ce7207",
   "metadata": {},
   "outputs": [],
   "source": [
    "class KayaPop(KayaCharacter, FunkoPop):\n",
    "\n",
    "    def cunning_look():\n",
    "        print (\"KayaPop looks cunningly. Maybe she wants to shoot an arrow you?\")"
   ]
  },
  {
   "cell_type": "code",
   "execution_count": 10,
   "id": "f771eac1-0867-4c71-9313-d34287004d92",
   "metadata": {},
   "outputs": [],
   "source": [
    "class KorCharacter(Character):\n",
    "    \n",
    "    name: str = \"Kor\"\n",
    "    human: bool = False\n",
    "    hair_colour = None\n",
    "    weapons: list = [\"gloves\", \"hammer\"]\n",
    "    special_feature: str = \"earth\""
   ]
  },
  {
   "cell_type": "code",
   "execution_count": 11,
   "id": "e9bf7cf2-b8ec-443c-9777-4c34cafe56c4",
   "metadata": {},
   "outputs": [],
   "source": [
    "class KorPlayable(KorCharacter, Playable):\n",
    "\n",
    "    def grab_attack():\n",
    "        print(\"Kor grabs you\")\n",
    "        \n",
    "    def earth_heavy_attack():\n",
    "        print(\"Kor sends you to the moon with his hammer\")    "
   ]
  },
  {
   "cell_type": "code",
   "execution_count": 12,
   "id": "2ad4aa62-6bf0-44af-97c7-ad5a0a1aa473",
   "metadata": {},
   "outputs": [],
   "source": [
    "class KorPop(KorCharacter, FunkoPop):\n",
    "\n",
    "    def indifferent_look():\n",
    "        print (\"Can Kor look at you in any way? No idea. He's not a human, anyways\")"
   ]
  },
  {
   "cell_type": "code",
   "execution_count": 6,
   "id": "2b39a258-32dc-4e76-bdb2-39cbba212f04",
   "metadata": {
    "editable": true,
    "slideshow": {
     "slide_type": ""
    },
    "tags": []
   },
   "outputs": [],
   "source": [
    "class ArcadiaCharacter(Character):\n",
    "\n",
    "    name: str = \"Arcadia\"\n",
    "    human: bool = True\n",
    "    hair_colour = \"purple\"\n",
    "    weapons: list = [\"spear\", \"sword\"]\n",
    "    special_feature: str = \"flowers\""
   ]
  },
  {
   "cell_type": "code",
   "execution_count": 7,
   "id": "6a8fcac5-dfeb-40e2-b45c-3f4fcd6192a8",
   "metadata": {},
   "outputs": [],
   "source": [
    "class ArcadiaPlayable(ArcadiaCharacter, Playable):\n",
    "\n",
    "    def pierce_attack():\n",
    "        print(\"Arcadia pierces your guts\")\n",
    "        \n",
    "    def flower_special_attack():\n",
    "        print(\"Arcadia spins you in her blossoming hurricane\")"
   ]
  },
  {
   "cell_type": "code",
   "execution_count": 8,
   "id": "9d81dbd8-a759-4f4e-bac3-9984b0127341",
   "metadata": {},
   "outputs": [],
   "source": [
    "class ArcadiaPop(ArcadiaCharacter, FunkoPop):\n",
    "    \n",
    "    def confident_look():\n",
    "        print (\"ArcadiaPop looks confident. She won't lose this fight!\")"
   ]
  },
  {
   "cell_type": "code",
   "execution_count": 10,
   "id": "83bd72d5-0a72-45db-a816-8dfe3880bd81",
   "metadata": {},
   "outputs": [
    {
     "name": "stdout",
     "output_type": "stream",
     "text": [
      "ArcadiaPop looks confident. She won't lose this fight!\n",
      "Shouldn't have thrown me into the river.. *blob-blob*\n"
     ]
    },
    {
     "data": {
      "text/plain": [
       "'lol'"
      ]
     },
     "execution_count": 10,
     "metadata": {},
     "output_type": "execute_result"
    }
   ],
   "source": [
    "arcadia_pop1 = ArcadiaPop\n",
    "arcadia_pop1.confident_look()\n",
    "arcadia_pop1.drown()\n"
   ]
  },
  {
   "cell_type": "code",
   "execution_count": 20,
   "id": "245e48f1-b5e1-48d5-a7bd-fc3908e6c0d9",
   "metadata": {
    "editable": true,
    "slideshow": {
     "slide_type": ""
    },
    "tags": []
   },
   "outputs": [
    {
     "name": "stdout",
     "output_type": "stream",
     "text": [
      "Arcadia spins you in her blossoming hurricane\n"
     ]
    }
   ],
   "source": [
    "arcadia_legend1 = ArcadiaPlayable\n",
    "arcadia_legend1.flower_special_attack()"
   ]
  }
 ],
 "metadata": {
  "kernelspec": {
   "display_name": "Python 3 (ipykernel)",
   "language": "python",
   "name": "python3"
  },
  "language_info": {
   "codemirror_mode": {
    "name": "ipython",
    "version": 3
   },
   "file_extension": ".py",
   "mimetype": "text/x-python",
   "name": "python",
   "nbconvert_exporter": "python",
   "pygments_lexer": "ipython3",
   "version": "3.11.1"
  }
 },
 "nbformat": 4,
 "nbformat_minor": 5
}
