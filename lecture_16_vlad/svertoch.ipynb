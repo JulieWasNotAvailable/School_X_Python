{
 "cells": [
  {
   "cell_type": "code",
   "execution_count": 4,
   "metadata": {},
   "outputs": [],
   "source": [
    "import torch.nn as nn\n",
    "import cv2"
   ]
  },
  {
   "cell_type": "code",
   "execution_count": null,
   "metadata": {},
   "outputs": [],
   "source": [
    "class CVModel(nn.Module):\n",
    "    #convolutioin - свёртка\n",
    "    def __init__(self):\n",
    "        #попадает картинки 124 124 1\n",
    "        self.conv_1 = nn.Conv2d(1,32,(3, 3 )) #in_chan -, out_chan - kernel-size - размер фильтра\n",
    "        #возвращается 122, 122, 32\n",
    "        #124-3+1\n",
    "        #исх разм - разм фильтр + 1\n",
    "\n",
    "        # сюда приходит 122 122 32\n",
    "        # 32 фильтра, 3x3\n",
    "        # 32 матрицы рамзером 122 на 122\n",
    "\n",
    "        self.conv_2 = nn.Conv2d(32,64, (3,3)) \n",
    "\n",
    "        #120 120 64 -> 60x60\n",
    "        self.pool_1 = nn.MaxPool2d((2,2)) #нужно контролировать, чтобы на выходе был не один пиксель\n",
    "\n",
    "        #60 60 64 -> 58 58 128\n",
    "        self.conv_3 = nn.Conv2d(64, 128, (3, 3))\n",
    "\n",
    "        #58 58 128 ->  \n",
    "        self.conv_4 = nn.Conv2d(128, 128, (3, 3))\n",
    "\n",
    "        #56 56 128 -> 28 28 128\n",
    "        self.pool_2 = nn.MaxPool2d((2,2)) #из вектора фич нужно понять, какой объект перед нами\n",
    "\n",
    "        # 28 28 128 -> 1 1 128\n",
    "        self.glob_pool = nn.MaxPool2d((28,28)) #\n",
    "        self.linear = nn.Linear(128, 26)\n",
    "\n",
    "        #что сумма результатов всех линейных функций будет равна единице\n",
    "        self.softmax = nn.Softmax()\n",
    "    \n",
    "    def forward(self, x):\n",
    "        res = self.conv_1(x)\n",
    "        res = self.conv_2(res)\n",
    "        res = self.pool_1(res)\n",
    "        res = self.conv_3(res)\n",
    "        res = self.conv_4(res)\n",
    "        res = self.pool_2(res)\n",
    "        res = self.linear(res.view(-1, 128)) #сокращаем размерности с 1 х 1 на 128, преобразовываем в просто 128\n",
    "        return self.softmax(res)\n"
   ]
  },
  {
   "cell_type": "code",
   "execution_count": 5,
   "metadata": {},
   "outputs": [
    {
     "data": {
      "text/plain": [
       "torch.Size([2, 1, 1, 128])"
      ]
     },
     "execution_count": 5,
     "metadata": {},
     "output_type": "execute_result"
    }
   ],
   "source": [
    "import torch\n",
    "a = torch.rand((2,1,1,128))\n",
    "a.size()"
   ]
  },
  {
   "cell_type": "code",
   "execution_count": 3,
   "metadata": {},
   "outputs": [
    {
     "ename": "TypeError",
     "evalue": "Conv2d.__init__() missing 3 required positional arguments: 'in_channels', 'out_channels', and 'kernel_size'",
     "output_type": "error",
     "traceback": [
      "\u001b[1;31m---------------------------------------------------------------------------\u001b[0m",
      "\u001b[1;31mTypeError\u001b[0m                                 Traceback (most recent call last)",
      "\u001b[1;32mc:\\Users\\1\\PycharmProjects\\i_love_tuesdays\\lecture_16_vlad\\svertoch.ipynb Cell 3\u001b[0m line \u001b[0;36m1\n\u001b[1;32m----> <a href='vscode-notebook-cell:/c%3A/Users/1/PycharmProjects/i_love_tuesdays/lecture_16_vlad/svertoch.ipynb#W2sZmlsZQ%3D%3D?line=0'>1</a>\u001b[0m nn\u001b[39m.\u001b[39;49mConv2d()\n",
      "\u001b[1;31mTypeError\u001b[0m: Conv2d.__init__() missing 3 required positional arguments: 'in_channels', 'out_channels', and 'kernel_size'"
     ]
    }
   ],
   "source": [
    "a.view(-1, )"
   ]
  }
 ],
 "metadata": {
  "kernelspec": {
   "display_name": "Python 3",
   "language": "python",
   "name": "python3"
  },
  "language_info": {
   "codemirror_mode": {
    "name": "ipython",
    "version": 3
   },
   "file_extension": ".py",
   "mimetype": "text/x-python",
   "name": "python",
   "nbconvert_exporter": "python",
   "pygments_lexer": "ipython3",
   "version": "3.11.1"
  }
 },
 "nbformat": 4,
 "nbformat_minor": 2
}
