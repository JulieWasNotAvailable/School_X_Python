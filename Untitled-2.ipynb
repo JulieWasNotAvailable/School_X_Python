{
 "cells": [
  {
   "cell_type": "code",
   "execution_count": 45,
   "metadata": {},
   "outputs": [],
   "source": [
    "import pandas as pd"
   ]
  },
  {
   "cell_type": "code",
   "execution_count": 34,
   "metadata": {},
   "outputs": [
    {
     "name": "stderr",
     "output_type": "stream",
     "text": [
      "Some weights of the model checkpoint at DeepPavlov/rubert-base-cased were not used when initializing BertModel: ['cls.seq_relationship.bias', 'cls.predictions.decoder.bias', 'cls.predictions.bias', 'cls.predictions.transform.LayerNorm.weight', 'cls.predictions.transform.LayerNorm.bias', 'cls.predictions.decoder.weight', 'cls.predictions.transform.dense.bias', 'cls.predictions.transform.dense.weight', 'cls.seq_relationship.weight']\n",
      "- This IS expected if you are initializing BertModel from the checkpoint of a model trained on another task or with another architecture (e.g. initializing a BertForSequenceClassification model from a BertForPreTraining model).\n",
      "- This IS NOT expected if you are initializing BertModel from the checkpoint of a model that you expect to be exactly identical (initializing a BertForSequenceClassification model from a BertForSequenceClassification model).\n"
     ]
    }
   ],
   "source": [
    "import torch.nn.functional as F\n",
    "\n",
    "from torch import Tensor\n",
    "from transformers import AutoTokenizer, AutoModel\n",
    "\n",
    "input_texts = [\"Я любле кошек\"]\n",
    "\n",
    "tokenizer = AutoTokenizer.from_pretrained('DeepPavlov/rubert-base-cased')\n",
    "model = AutoModel.from_pretrained('DeepPavlov/rubert-base-cased')"
   ]
  },
  {
   "cell_type": "code",
   "execution_count": 35,
   "metadata": {},
   "outputs": [],
   "source": [
    "# Transform input tokens \n",
    "inputs = tokenizer(\"Изучение иностранного языка – это всегда интереснае и увлекательное занятие. Русский язык, как один из самых распространенных языков мира, привлекает к себе внимание многих людей. В данном эссе мы рассмотрим несколько аспектов изучения русского языка и его важности в современном мире. Во-первых, изучение русского языка открывает двери к русской культуре и истории. Россия – это страна с богатой историей, множеством традиций и культурным наследием. Изучение русского языка позволяет погрузиться в этот удивительный мир, понять особенности мышления и образа жизни русских людей. Кроме того, знание русского языка открывает возможности для изучения русской литературы, искусства и музыки, что является невероятно ценным опытом. Во-вторых, русский язык играет важную роль в мировой политике и экономике. Россия – это одна из крупнейших стран мира, и русский язык является официальным языком во многих странах. Знание русского языка может открыть двери к новым возможностям в сфере бизнеса, дипломатии и международных отношений. Более того, в современном мире умение говорить на нескольких языках становится все более важным, и русский язык может стать ценным активом для профессионального роста. Наконец, изучение русского языка способствует развитию когнитивных способностей. Изучение нового языка требует от человека усилий и концентрации, что способствует развитию памяти, внимания и логического мышления. Кроме того, изучение русского языка позволяет понять структуру языка в целом, что может быть полезно при изучении других языков. Таким образом, изучение русского языка имеет множество преимуществ и может быть полезным для людей различных профессий и интересов. Русский язык открывает двери к новой культуре, помогает расширить горизонты и обогатить жизнь. Поэтому изучение русского языка заслуживает внимания и может принести много пользы как личностному, так и профессиональному развитию.Изучение иностранного языка – это всегда интересное и увлекательное занятие. Русский язык, как один из самых распространенных языков мира, привлекает к себе внимание многих людей. В данном эссе мы рассмотрим несколько аспектов изучения русского языка и его важности в современном мире. Во-первых, изучение русского языка открывает двери к русской культуре и истории. Россия – это страна с богатой историей, множеством традиций и культурным наследием. Изучение русского языка позволяет погрузиться в этот удивительный мир, понять особенности мышления и образа жизни русских людей. Кроме того, знание русского языка открывает возможности для изучения русской литературы, искусства и музыки, что является невероятно ценным опытом. Во-вторых, русский язык играет важную роль в мировой политике и экономике. Россия – это одна\", return_tensors=\"pt\")\n",
    "# Model apply\n",
    "outputs = model(**inputs)"
   ]
  },
  {
   "cell_type": "code",
   "execution_count": 49,
   "metadata": {},
   "outputs": [],
   "source": [
    "text = pd.read_csv(\"датасет - хорошие.csv\")\n",
    "text = text.iloc[0:29][\"text\"]"
   ]
  },
  {
   "cell_type": "code",
   "execution_count": null,
   "metadata": {},
   "outputs": [],
   "source": [
    "for essay in text:"
   ]
  }
 ],
 "metadata": {
  "kernelspec": {
   "display_name": "Python 3",
   "language": "python",
   "name": "python3"
  },
  "language_info": {
   "codemirror_mode": {
    "name": "ipython",
    "version": 3
   },
   "file_extension": ".py",
   "mimetype": "text/x-python",
   "name": "python",
   "nbconvert_exporter": "python",
   "pygments_lexer": "ipython3",
   "version": "3.11.1"
  }
 },
 "nbformat": 4,
 "nbformat_minor": 2
}
