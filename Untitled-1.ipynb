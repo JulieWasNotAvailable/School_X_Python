{
 "cells": [
  {
   "cell_type": "code",
   "execution_count": null,
   "metadata": {},
   "outputs": [],
   "source": [
    "# %pip install -q requests\n",
    "# %pip install bs4\n",
    "\n",
    "# import requests\n",
    "# from bs4 import BeautifulSoup"
   ]
  },
  {
   "cell_type": "code",
   "execution_count": null,
   "metadata": {},
   "outputs": [],
   "source": [
    "# url=\"https://quotes.toscrape.com/\"\n",
    "# page = requests.get(url)\n",
    "# soup = BeautifulSoup(page.content)\n",
    "# print(soup)"
   ]
  },
  {
   "cell_type": "markdown",
   "metadata": {},
   "source": [
    "#сайты, которые заполняются с js\n",
    "#библиотека Selenium\n",
    "#промежуточный элемент между браузером и кодом - веб драйвер для chrome и mozilla firefox\n",
    "#обратите внимание - если для firefox он гибкий, chrome очень чувствителен к версии браузера\n",
    "#безголовый браузер - работает фоном\n",
    "#файлы docs лучше всего открывать win32doc \n",
    "#МВ рекомендует покопаться в разархивацией docx"
   ]
  },
  {
   "cell_type": "code",
   "execution_count": null,
   "metadata": {},
   "outputs": [],
   "source": [
    "import numpy as np\n",
    "import pandas as pd\n",
    "\n",
    "data = pd.read_csv('logs.csv', encoding='utf-8')\n",
    "data.head()"
   ]
  },
  {
   "cell_type": "code",
   "execution_count": null,
   "metadata": {},
   "outputs": [],
   "source": [
    "data.isna().sum()\n",
    "data['user_id'].value_counts()\n",
    "\n",
    "data['purchase'] = data['purchase'].astype(bool)\n",
    "data.info()"
   ]
  },
  {
   "cell_type": "code",
   "execution_count": null,
   "metadata": {},
   "outputs": [],
   "source": [
    "data['purchase'].value_counts()\n",
    "data.isna().sum()\n",
    "data[data['source'].isna()]"
   ]
  },
  {
   "cell_type": "code",
   "execution_count": null,
   "metadata": {},
   "outputs": [],
   "source": [
    "data['source'] = data['source'].replace('None', None)\n",
    "data['source'] = data['source'].replace('undef', None)\n",
    "data['purchase'].value_counts()"
   ]
  },
  {
   "cell_type": "code",
   "execution_count": 25,
   "metadata": {},
   "outputs": [],
   "source": [
    "data_gb_ui = data.groupby('user_id')['purchase'].sum()\n",
    "data_gb_ui.sort_values(ascending=False)\n",
    "total_installs = data.shape[0]\n",
    "total_purchase = data['purchase'].sum()\n",
    "total_conversion = total_purchase / total_installs"
   ]
  },
  {
   "cell_type": "code",
   "execution_count": 29,
   "metadata": {},
   "outputs": [],
   "source": [
    "avoid_n = 0\n",
    "unique_install = data_gb_ui.shape[0]\n",
    "unique_conversion = total_conversion = total_purchase / total_installs\n",
    "unique_purchases = (pd.DataFrame(data_gb_ui).query('purchase != @avoid_n').shape[0])\n"
   ]
  },
  {
   "cell_type": "code",
   "execution_count": null,
   "metadata": {},
   "outputs": [],
   "source": [
    "avoid_n = 0\n",
    "unique_install = data_gb_ui.shape[0]\n",
    "unique_conversion = total_conversion = total_purchase / total_installs\n",
    "unique_purchases = (pd.DataFrame(data_gb_ui).query('purchase != @avoid_n').shape[0])\n"
   ]
  },
  {
   "cell_type": "code",
   "execution_count": 30,
   "metadata": {},
   "outputs": [
    {
     "name": "stdout",
     "output_type": "stream",
     "text": [
      "0.060515\n"
     ]
    }
   ],
   "source": [
    "print (unique_conversion)"
   ]
  }
 ],
 "metadata": {
  "kernelspec": {
   "display_name": "Python 3",
   "language": "python",
   "name": "python3"
  },
  "language_info": {
   "codemirror_mode": {
    "name": "ipython",
    "version": 3
   },
   "file_extension": ".py",
   "mimetype": "text/x-python",
   "name": "python",
   "nbconvert_exporter": "python",
   "pygments_lexer": "ipython3",
   "version": "3.11.1"
  },
  "orig_nbformat": 4
 },
 "nbformat": 4,
 "nbformat_minor": 2
}
