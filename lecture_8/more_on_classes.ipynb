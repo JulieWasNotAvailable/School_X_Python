{
 "cells": [
  {
   "cell_type": "code",
   "execution_count": 11,
   "metadata": {},
   "outputs": [
    {
     "data": {
      "text/plain": [
       "False"
      ]
     },
     "execution_count": 11,
     "metadata": {},
     "output_type": "execute_result"
    }
   ],
   "source": [
    "class MosqitoesCloud:\n",
    "    damage_per_mosquito: float = 1.7\n",
    "    mosquitoes_in_cloud = 5\n",
    "\n",
    "    damage = damage_per_mosquito * mosquitoes_in_cloud\n",
    "    def __init__(\n",
    "            self,\n",
    "            damage_per_mosquito: float = 1.7,\n",
    "            mosquitoes_in_cloud: int = 5):\n",
    "        if damage_per_mosquito is not None and mosquitoes_in_cloud is not None:\n",
    "            self.damage_per_mosquito = damage_per_mosquito\n",
    "            self.mosquitoes_in_cloud = mosquitoes_in_cloud\n",
    "            self.damage = damage_per_mosquito * mosquitoes_in_cloud\n",
    "        else: raise ValueError(\"Please, provide correct variables\")\n",
    "\n",
    "    def __add__(self: \"MosqitoesCloud\", other: \"MosqitoesCloud\") -> \"MosqitoesCloud\":\n",
    "        new_mosquitos_cloud = MosqitoesCloud(\n",
    "            damage_per_mosquito = (self.damage_per_mosquito + other.damage_per_mosquito)/2,\n",
    "            mosquitoes_in_cloud=self.mosquitoes_in_cloud + other.mosquitoes_in_cloud,\n",
    "        )\n",
    "        return new_mosquitos_cloud\n",
    "    \n",
    "    def __lt__(self, other):\n",
    "        return self.mosquitoes_in_cloud < other.mosquitoes_in_cloud\n",
    "\n",
    "    def __le__(self, other):\n",
    "        return self.mosquitoes_in_cloud <= other.mosquitoes_in_cloud\n",
    "    \n",
    "mcloud1 = MosqitoesCloud()\n",
    "mcloud1.damage\n",
    "\n",
    "mcloud2 = MosqitoesCloud(\n",
    "    2,\n",
    "    10\n",
    ")\n",
    "mcloud2.damage\n",
    "\n",
    "mcloud3 = mcloud1 + mcloud2\n",
    "mcloud3.damage, mcloud3.damage_per_mosquito, mcloud3.mosquitoes_in_cloud\n",
    "\n",
    "mcloud1.mosquitoes_in_cloud = 10\n",
    "mcloud1.mosquitoes_in_cloud, mcloud2.mosquitoes_in_cloud\n",
    "\n",
    "mcloud1 >= mcloud2\n",
    "\n",
    "mcloud1 == mcloud2"
   ]
  }
 ],
 "metadata": {
  "kernelspec": {
   "display_name": "Python 3",
   "language": "python",
   "name": "python3"
  },
  "language_info": {
   "codemirror_mode": {
    "name": "ipython",
    "version": 3
   },
   "file_extension": ".py",
   "mimetype": "text/x-python",
   "name": "python",
   "nbconvert_exporter": "python",
   "pygments_lexer": "ipython3",
   "version": "3.11.1"
  },
  "orig_nbformat": 4
 },
 "nbformat": 4,
 "nbformat_minor": 2
}
