{
 "cells": [
  {
   "cell_type": "code",
   "execution_count": 3,
   "metadata": {},
   "outputs": [
    {
     "name": "stdout",
     "output_type": "stream",
     "text": [
      "Requirement already satisfied: numpy in c:\\users\\1\\appdata\\local\\programs\\python\\python311\\lib\\site-packages (1.26.0)\n",
      "Note: you may need to restart the kernel to use updated packages.\n"
     ]
    },
    {
     "name": "stderr",
     "output_type": "stream",
     "text": [
      "\n",
      "[notice] A new release of pip available: 22.3.1 -> 23.2.1\n",
      "[notice] To update, run: python.exe -m pip install --upgrade pip\n"
     ]
    }
   ],
   "source": [
    "#пример задания\n",
    "%pip install numpy\n",
    "import numpy as np\n",
    "#задание\n",
    "# создать класс Matrix, в котором будет храниться сама матрица, состоящая из листов,\n",
    "# методы на сложение, вычитание, умножение, деление, @ - скалярное произведение\n",
    "\n",
    "class Matrix:\n",
    "\n",
    "    def addition(self, m1: list, m2: list):\n",
    "        for m1 \n",
    "\n",
    "    "
   ]
  },
  {
   "cell_type": "code",
   "execution_count": 1,
   "metadata": {},
   "outputs": [
    {
     "ename": "TypeError",
     "evalue": "'list' object is not callable",
     "output_type": "error",
     "traceback": [
      "\u001b[1;31m---------------------------------------------------------------------------\u001b[0m",
      "\u001b[1;31mTypeError\u001b[0m                                 Traceback (most recent call last)",
      "\u001b[1;32mc:\\Users\\1\\PycharmProjects\\i_love_tuesdays\\lecture_7\\Untitled-2.ipynb Cell 2\u001b[0m line \u001b[0;36m1\n\u001b[0;32m      <a href='vscode-notebook-cell:/c%3A/Users/1/PycharmProjects/i_love_tuesdays/lecture_7/Untitled-2.ipynb#W1sZmlsZQ%3D%3D?line=5'>6</a>\u001b[0m m2 \u001b[39m=\u001b[39m [\n\u001b[0;32m      <a href='vscode-notebook-cell:/c%3A/Users/1/PycharmProjects/i_love_tuesdays/lecture_7/Untitled-2.ipynb#W1sZmlsZQ%3D%3D?line=6'>7</a>\u001b[0m         [\u001b[39m1\u001b[39m,\u001b[39m-\u001b[39m\u001b[39m2\u001b[39m,\u001b[39m3\u001b[39m],\n\u001b[0;32m      <a href='vscode-notebook-cell:/c%3A/Users/1/PycharmProjects/i_love_tuesdays/lecture_7/Untitled-2.ipynb#W1sZmlsZQ%3D%3D?line=7'>8</a>\u001b[0m         [\u001b[39m-\u001b[39m\u001b[39m4\u001b[39m, \u001b[39m5\u001b[39m,\u001b[39m-\u001b[39m\u001b[39m6\u001b[39m]\n\u001b[0;32m      <a href='vscode-notebook-cell:/c%3A/Users/1/PycharmProjects/i_love_tuesdays/lecture_7/Untitled-2.ipynb#W1sZmlsZQ%3D%3D?line=8'>9</a>\u001b[0m     ]\n\u001b[0;32m     <a href='vscode-notebook-cell:/c%3A/Users/1/PycharmProjects/i_love_tuesdays/lecture_7/Untitled-2.ipynb#W1sZmlsZQ%3D%3D?line=11'>12</a>\u001b[0m n_rows \u001b[39m=\u001b[39m \u001b[39mlen\u001b[39m(m1)\n\u001b[1;32m---> <a href='vscode-notebook-cell:/c%3A/Users/1/PycharmProjects/i_love_tuesdays/lecture_7/Untitled-2.ipynb#W1sZmlsZQ%3D%3D?line=13'>14</a>\u001b[0m n_col \u001b[39m=\u001b[39m \u001b[39mlen\u001b[39m(m1(\u001b[39m0\u001b[39;49m))\n\u001b[0;32m     <a href='vscode-notebook-cell:/c%3A/Users/1/PycharmProjects/i_love_tuesdays/lecture_7/Untitled-2.ipynb#W1sZmlsZQ%3D%3D?line=17'>18</a>\u001b[0m \u001b[39m# #можно было итерировать в одну строчку\u001b[39;00m\n\u001b[0;32m     <a href='vscode-notebook-cell:/c%3A/Users/1/PycharmProjects/i_love_tuesdays/lecture_7/Untitled-2.ipynb#W1sZmlsZQ%3D%3D?line=18'>19</a>\u001b[0m \u001b[39m# m2_row = []\u001b[39;00m\n\u001b[0;32m     <a href='vscode-notebook-cell:/c%3A/Users/1/PycharmProjects/i_love_tuesdays/lecture_7/Untitled-2.ipynb#W1sZmlsZQ%3D%3D?line=19'>20</a>\u001b[0m \n\u001b[1;32m   (...)\u001b[0m\n\u001b[0;32m     <a href='vscode-notebook-cell:/c%3A/Users/1/PycharmProjects/i_love_tuesdays/lecture_7/Untitled-2.ipynb#W1sZmlsZQ%3D%3D?line=36'>37</a>\u001b[0m \u001b[39m#мне просто нужно трансформировать один лист в n_row листов\u001b[39;00m\n\u001b[0;32m     <a href='vscode-notebook-cell:/c%3A/Users/1/PycharmProjects/i_love_tuesdays/lecture_7/Untitled-2.ipynb#W1sZmlsZQ%3D%3D?line=37'>38</a>\u001b[0m \u001b[39m#элементы с 0 по n_col пойдут в листы, \u001b[39;00m\n",
      "\u001b[1;31mTypeError\u001b[0m: 'list' object is not callable"
     ]
    }
   ],
   "source": [
    "m1 = [\n",
    "        [1,2,3],\n",
    "        [4,5,6]\n",
    "    ]\n",
    "    \n",
    "m2 = [\n",
    "        [1,-2,3],\n",
    "        [-4, 5,-6]\n",
    "    ]\n",
    "\n",
    "\n",
    "n_rows = len(m1)\n",
    "\n",
    "n_col = len(m1(0))\n",
    "\n",
    "\n",
    "\n",
    "# #можно было итерировать в одну строчку\n",
    "# m2_row = []\n",
    "\n",
    "# for row in m2:\n",
    "#     for el in row:\n",
    "#         m2_row.append(el)\n",
    "\n",
    "\n",
    "# ind_m2 = 0\n",
    "# m_sum_row = []\n",
    "\n",
    "# for row in m1:\n",
    "#     for index in range(len(row)):\n",
    "#         row[index] = row[index] + m2_row[ind_m2]\n",
    "\n",
    "\n",
    "# n_rows = len(m1)\n",
    "# n_col = len(m_sum_row)/n_rows\n",
    "\n",
    "#мне просто нужно трансформировать один лист в n_row листов\n",
    "#элементы с 0 по n_col пойдут в листы, \n",
    "    "
   ]
  }
 ],
 "metadata": {
  "kernelspec": {
   "display_name": "Python 3",
   "language": "python",
   "name": "python3"
  },
  "language_info": {
   "codemirror_mode": {
    "name": "ipython",
    "version": 3
   },
   "file_extension": ".py",
   "mimetype": "text/x-python",
   "name": "python",
   "nbconvert_exporter": "python",
   "pygments_lexer": "ipython3",
   "version": "3.11.1"
  },
  "orig_nbformat": 4
 },
 "nbformat": 4,
 "nbformat_minor": 2
}
