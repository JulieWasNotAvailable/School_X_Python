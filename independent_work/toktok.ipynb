{
 "cells": [
  {
   "cell_type": "code",
   "execution_count": 40,
   "metadata": {},
   "outputs": [],
   "source": [
    "from nltk import ToktokTokenizer\n",
    "from nltk import WordPunctTokenizer\n",
    "import codecs"
   ]
  },
  {
   "cell_type": "code",
   "execution_count": 53,
   "metadata": {},
   "outputs": [
    {
     "data": {
      "text/plain": [
       "['nice']"
      ]
     },
     "execution_count": 53,
     "metadata": {},
     "output_type": "execute_result"
    }
   ],
   "source": [
    "chas = open(\"4_gospodin_iz_sanfran_tok_1915.txt\",\"r\")\n",
    "\n",
    "file = codecs.open(\"6_pozniy_chas_1938_tok.txt\", \"r\", \"utf-8\" )\n",
    "data = file.read()\n",
    "file.close()\n",
    "\n",
    "data2 = WordPunctTokenizer().tokenize(data)\n",
    "\n",
    "txt = [\"!\", \"nice\"]\n",
    "\n",
    "punct = \"!#$%&'()*+, -./:;<=>?\\\"@[\\]^_`{|}~\"\n",
    "for el in txt:\n",
    "    if el in punct:\n",
    "        txt.remove(el)\n",
    "\n",
    "txt"
   ]
  },
  {
   "cell_type": "code",
   "execution_count": null,
   "metadata": {},
   "outputs": [],
   "source": [
    "def clean_tokenizer(adress):\n",
    "    file = open(adress, \"r\", encoding = \"utf-8\")\n",
    "    text = file.read().lower()\n",
    "    file.close()\n",
    "    text = WordPunctTokenizer().tokenize(text)\n",
    "    words_filtered = [word for word in text if word not in stop]\n",
    "\n",
    "    punct = \"!#$%&'()*+, -./:;<=>?\\\"@[\\]^_`{|}~\"\n",
    "\n",
    "    new = []\n",
    "    for word in words_filtered:\n",
    "        if word in punct:\n",
    "            words_filtered.remove(word)\n",
    "        else:\n",
    "            new.append(word)\n",
    "\n",
    "    return new"
   ]
  },
  {
   "cell_type": "markdown",
   "metadata": {},
   "source": [
    "\"--\" \"I\" \"--\""
   ]
  },
  {
   "cell_type": "code",
   "execution_count": null,
   "metadata": {},
   "outputs": [],
   "source": [
    "def clean_tokenizer(adress):\n",
    "    for word in words_filtered:\n",
    "        if \"\\n\" in word or \"I\" in word or \"--\" in word or \"—\" in word or \"-\" in word\\\n",
    "            or chr(8211) in word or chr(8230) in word: #другое тире и одтроеточие\n",
    "            words_filtered.remove(word)\n",
    "            continue\n",
    "        if \".\" in word:\n",
    "            word = word.replace(\".\", \"\")\n",
    "            if \".\" in word:\n",
    "                word = word.replace(\".\", \"\")\n",
    "                if \".\" in word:\n",
    "                    word = word.replace(\".\", \"\")\n",
    "        if \",\" in word or \"!\" in word or \"?\" in word or \":\" in word:\n",
    "            word = word.replace(\"!\", \"\")\n",
    "            word = word.replace(\",\", \"\")\n",
    "            word = word.replace(\"?\", \"\")\n",
    "            word = word.replace(\":\", \"\")\n",
    "        if \"\\\"\" in word or \"--\" in word:\n",
    "            word = word.replace(\"\\\"\", \"\")\n",
    "            word = word.replace(\"--\", \"\")\n",
    "        new.append(word)\n",
    "    return new"
   ]
  },
  {
   "cell_type": "code",
   "execution_count": 55,
   "metadata": {},
   "outputs": [
    {
     "name": "stdout",
     "output_type": "stream",
     "text": [
      "8\n"
     ]
    }
   ],
   "source": [
    "print(\"\\r8\")"
   ]
  },
  {
   "cell_type": "code",
   "execution_count": 72,
   "metadata": {},
   "outputs": [
    {
     "data": {
      "text/plain": [
       "'ololo abobus'"
      ]
     },
     "execution_count": 72,
     "metadata": {},
     "output_type": "execute_result"
    }
   ],
   "source": [
    "text = \"\\r\\nololo \\tabobusxa0\"\n",
    "unwanted = [\"\\n\", \"\\r\", \"\\t\", \"xa0\"] \n",
    "\n",
    "new"
   ]
  }
 ],
 "metadata": {
  "kernelspec": {
   "display_name": "Python 3",
   "language": "python",
   "name": "python3"
  },
  "language_info": {
   "codemirror_mode": {
    "name": "ipython",
    "version": 3
   },
   "file_extension": ".py",
   "mimetype": "text/x-python",
   "name": "python",
   "nbconvert_exporter": "python",
   "pygments_lexer": "ipython3",
   "version": "3.11.1"
  }
 },
 "nbformat": 4,
 "nbformat_minor": 2
}
