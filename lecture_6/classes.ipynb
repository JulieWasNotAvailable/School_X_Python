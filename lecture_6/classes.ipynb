{
 "cells": [
  {
   "cell_type": "code",
   "execution_count": 1,
   "id": "382fd8d5-b6ab-4874-a923-bc8b9eafe6d9",
   "metadata": {
    "editable": true,
    "slideshow": {
     "slide_type": ""
    },
    "tags": []
   },
   "outputs": [],
   "source": [
    "# пример с рабочим, который уравнивает два склада\n",
    "# задача рабочего - ходить, взять коробку на складе 1, перейти в склад 2, положить коробку\n",
    "\n",
    "# 1. ходить\n",
    "# 2. взять\n",
    "# 3. ходить\n",
    "# 4. опустить\n",
    "# 5. запустить алгоритм заново\n",
    "\n",
    "# второй склад из 80% в 70%, первый склад из 30% в 40% \n",
    "# когда будет 50% и 60%, рабочий начнёт таскать одну коробку на разные склады\n",
    "\n",
    "# если прораб управляет рабочим\n",
    "# может указать рабочему уйти на перекур, если будет 50% и 60%\n",
    "\n",
    "# рабочий уходит, пока не понадобится\n",
    "# проблема с резиновой уточкой - это и резиновая игрушка, и птица"
   ]
  },
  {
   "cell_type": "code",
   "execution_count": 2,
   "id": "e1b98d52-bfb5-4da5-8d50-b58e85e9b957",
   "metadata": {},
   "outputs": [],
   "source": [
    "# у класса есть\n",
    "# методы\n",
    "# бегать\n",
    "# дышать\n",
    "# свойства\n",
    "# вес 80 кг\n",
    "# рост 170 \n",
    "\n",
    "# vova 1\n",
    "# вес 90 кг\n",
    "# рост 140 см\n",
    "# имя \"Вова\"\n",
    "\n",
    "# vova 2\n",
    "# вес 190 кг\n",
    "# рост 80 см\n",
    "# имя \"Вова\"\n",
    "\n",
    "# инстанциирование объекта vova 1 и vova 2 класса человек - "
   ]
  },
  {
   "cell_type": "code",
   "execution_count": 3,
   "id": "3b928276-6144-4078-941b-34deb5edcde6",
   "metadata": {
    "editable": true,
    "slideshow": {
     "slide_type": ""
    },
    "tags": []
   },
   "outputs": [],
   "source": [
    "class Human:\n",
    "    \n",
    "    iq: int = 100\n",
    "    weight: float|int = 80\n",
    "    height: float|int = 170\n",
    "    name: str|None = \"None\"\n",
    "\n",
    "    def __init__(\n",
    "                self,\n",
    "                weight: float|int = 80,\n",
    "                height: float|int = 170,\n",
    "                name: str|None = None):\n",
    "        self.weight = weight\n",
    "        self.height = height\n",
    "        self.name = name\n",
    "    \n",
    "    def walk(self, speed: float = 1.0):\n",
    "        print (\"Я иду со скоростью: \", speed)\n",
    "    \n",
    "    def run(self):\n",
    "        if self.weight > 110:\n",
    "            print(\"Я не могу бешать\")\n",
    "        else:\n",
    "            print(\"Я бегу\")\n",
    "        \n",
    "    def breathe(self):\n",
    "        print(\"Я дышу\")        "
   ]
  },
  {
   "cell_type": "code",
   "execution_count": 4,
   "id": "d72bbefa-a1b5-4cb2-896a-aa1f056b24d3",
   "metadata": {},
   "outputs": [
    {
     "data": {
      "text/plain": [
       "80"
      ]
     },
     "execution_count": 4,
     "metadata": {},
     "output_type": "execute_result"
    }
   ],
   "source": [
    "vova1 = Human()\n",
    "vova1.weight\n",
    "#скобки не нужны, это переменная"
   ]
  },
  {
   "cell_type": "code",
   "execution_count": 5,
   "id": "2a520f3a-d17e-44e1-a88e-ca356357bdf9",
   "metadata": {},
   "outputs": [
    {
     "name": "stdout",
     "output_type": "stream",
     "text": [
      "Я иду со скоростью:  4\n"
     ]
    }
   ],
   "source": [
    "vova1.walk\n",
    "#объект находится в куче по такому-то адресу\n",
    "#скобки заставляют функцию вызваться\n",
    "vova1.walk(4)"
   ]
  },
  {
   "cell_type": "code",
   "execution_count": 6,
   "id": "6d3a7573-9a3b-4e61-8273-85cedb9b1e16",
   "metadata": {},
   "outputs": [
    {
     "data": {
      "text/plain": [
       "'Vova'"
      ]
     },
     "execution_count": 6,
     "metadata": {},
     "output_type": "execute_result"
    }
   ],
   "source": [
    "vova1.name = \"Vova\"\n",
    "vova1.name"
   ]
  },
  {
   "cell_type": "code",
   "execution_count": 7,
   "id": "6d6209ad-a8b3-4cf4-9eea-813ddc055b22",
   "metadata": {},
   "outputs": [
    {
     "name": "stdout",
     "output_type": "stream",
     "text": [
      "Я бегу\n"
     ]
    }
   ],
   "source": [
    "vova1.run()"
   ]
  },
  {
   "cell_type": "code",
   "execution_count": 8,
   "id": "829231ab-daec-4cbc-b089-af6cb9fadea4",
   "metadata": {},
   "outputs": [],
   "source": [
    "vova2 = Human(\n",
    "    height=90,\n",
    "    weight=220,\n",
    "    name = \"Vova\"\n",
    "    )"
   ]
  },
  {
   "cell_type": "code",
   "execution_count": 9,
   "id": "f68d487d-4deb-4079-abaf-527014fb6c1e",
   "metadata": {},
   "outputs": [
    {
     "name": "stdout",
     "output_type": "stream",
     "text": [
      "Я не могу бешать\n"
     ]
    }
   ],
   "source": [
    "vova2.run()"
   ]
  },
  {
   "cell_type": "code",
   "execution_count": 10,
   "id": "8e542bdf-f108-424e-84b1-e42afa5aa4a6",
   "metadata": {},
   "outputs": [
    {
     "ename": "NameError",
     "evalue": "name 'vova3' is not defined",
     "output_type": "error",
     "traceback": [
      "\u001b[1;31m---------------------------------------------------------------------------\u001b[0m",
      "\u001b[1;31mNameError\u001b[0m                                 Traceback (most recent call last)",
      "Cell \u001b[1;32mIn[10], line 1\u001b[0m\n\u001b[1;32m----> 1\u001b[0m \u001b[38;5;28;01mfor\u001b[39;00m index_vova, local_vova \u001b[38;5;129;01min\u001b[39;00m \u001b[38;5;28menumerate\u001b[39m([\u001b[43mvova3\u001b[49m, vova4, vova5]):\n\u001b[0;32m      2\u001b[0m     index_vova \u001b[38;5;241m+\u001b[39m\u001b[38;5;241m=\u001b[39m \u001b[38;5;241m3\u001b[39m\n\u001b[0;32m      3\u001b[0m     \u001b[38;5;28mprint\u001b[39m(\u001b[38;5;124m\"\u001b[39m\u001b[38;5;124mVOVA\u001b[39m\u001b[38;5;124m\"\u001b[39m, index_vova)\n",
      "\u001b[1;31mNameError\u001b[0m: name 'vova3' is not defined"
     ]
    }
   ],
   "source": [
    "for index_vova, local_vova in enumerate([vova3, vova4, vova5]):\n",
    "    index_vova += 3\n",
    "    print(\"VOVA\", index_vova)\n",
    "    local_vova.walk()\n",
    "    local_vova.run()\n",
    "    local_vova.breathe()\n",
    "    print('-'*20)\n",
    "#не успела прописать всех разных Вов"
   ]
  },
  {
   "cell_type": "code",
   "execution_count": null,
   "id": "376e4aeb-b9d2-4fab-9246-7280e2151f28",
   "metadata": {},
   "outputs": [],
   "source": [
    "class HumanWorker(Human):\n",
    "    def work(self):\n",
    "        print(\"Я работаю\")\n",
    "\n",
    "    def walk(self, speed = 0.6):\n",
    "        print (\"Я иду загруженный, со скоростью: \", speed)"
   ]
  },
  {
   "cell_type": "code",
   "execution_count": null,
   "id": "e274e695-790b-4c06-af97-86c0b55e4a45",
   "metadata": {},
   "outputs": [],
   "source": [
    "vova_worker1 = HumanWorker()\n",
    "vova_worker1.walk(3)"
   ]
  },
  {
   "cell_type": "code",
   "execution_count": null,
   "id": "86d56ede-71db-42e0-b0af-d6b61a42a543",
   "metadata": {},
   "outputs": [],
   "source": [
    "#чтобы когда создавал human worker'a он не бегал на складе"
   ]
  }
 ],
 "metadata": {
  "kernelspec": {
   "display_name": "Python 3 (ipykernel)",
   "language": "python",
   "name": "python3"
  },
  "language_info": {
   "codemirror_mode": {
    "name": "ipython",
    "version": 3
   },
   "file_extension": ".py",
   "mimetype": "text/x-python",
   "name": "python",
   "nbconvert_exporter": "python",
   "pygments_lexer": "ipython3",
   "version": "3.11.1"
  }
 },
 "nbformat": 4,
 "nbformat_minor": 5
}
