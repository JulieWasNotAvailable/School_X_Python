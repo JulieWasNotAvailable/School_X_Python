{
 "cells": [
  {
   "cell_type": "code",
   "execution_count": 12,
   "metadata": {},
   "outputs": [
    {
     "name": "stdout",
     "output_type": "stream",
     "text": [
      "[0, 1, 4, 9, 16, 25, 36, 49, 64, 81]\n"
     ]
    }
   ],
   "source": [
    "def list_squared(num: int) -> list[int]:\n",
    "    new_list = []\n",
    "    for n in range(num):\n",
    "        new_list.append(n**2)\n",
    "    return new_list #[n ** 2 for n in range(num)]\n",
    "\n",
    "def gen_squared(num: int) -> list[int]:\n",
    "    for n in range(num):\n",
    "        yield n**2 #обещает вернуть\n",
    "\n",
    "\n",
    "print (list(gen_squared(10)))"
   ]
  },
  {
   "cell_type": "code",
   "execution_count": 11,
   "metadata": {},
   "outputs": [
    {
     "name": "stdout",
     "output_type": "stream",
     "text": [
      "1.47 µs ± 64.3 ns per loop (mean ± std. dev. of 7 runs, 100,000 loops each)\n",
      "1.47 µs ± 38.3 ns per loop (mean ± std. dev. of 7 runs, 1,000,000 loops each)\n",
      "1.45 µs ± 6.89 ns per loop (mean ± std. dev. of 7 runs, 1,000,000 loops each)\n",
      "1.45 µs ± 34.1 ns per loop (mean ± std. dev. of 7 runs, 1,000,000 loops each)\n",
      "1.46 µs ± 30.8 ns per loop (mean ± std. dev. of 7 runs, 1,000,000 loops each)\n",
      "1.47 µs ± 32.7 ns per loop (mean ± std. dev. of 7 runs, 1,000,000 loops each)\n",
      "1.42 µs ± 4.8 ns per loop (mean ± std. dev. of 7 runs, 1,000,000 loops each)\n",
      "1.43 µs ± 27.3 ns per loop (mean ± std. dev. of 7 runs, 1,000,000 loops each)\n",
      "11.8 s ± 152 ms per loop (mean ± std. dev. of 7 runs, 1 loop each)\n"
     ]
    }
   ],
   "source": [
    "%%timeit #магическая косанда на всю клетку\n",
    "# запускает много раз и замеряет среднее значение, которое не должно так сильно меняться\n",
    "%%timeit list(gen_squared(10))\n",
    "\n",
    "squared(10)\n",
    "squared(10)"
   ]
  },
  {
   "cell_type": "code",
   "execution_count": 29,
   "metadata": {},
   "outputs": [],
   "source": [
    "gen = gen_squared(10)\n",
    "gen"
   ]
  },
  {
   "cell_type": "code",
   "execution_count": 30,
   "metadata": {},
   "outputs": [
    {
     "data": {
      "text/plain": [
       "<generator object <genexpr> at 0x0000028D6C0DD220>"
      ]
     },
     "execution_count": 30,
     "metadata": {},
     "output_type": "execute_result"
    }
   ],
   "source": [
    "#list comprehension\n",
    "list_c = [a**2 for a in range(10)]\n",
    "list_c\n",
    "\n",
    "gen_c = (a**2 for a in range(10))\n",
    "gen_c"
   ]
  },
  {
   "cell_type": "code",
   "execution_count": 28,
   "metadata": {},
   "outputs": [
    {
     "data": {
      "text/plain": [
       "0"
      ]
     },
     "execution_count": 28,
     "metadata": {},
     "output_type": "execute_result"
    }
   ],
   "source": [
    "next(gen) #next заставляет генератор выполнить следующую итерацию"
   ]
  },
  {
   "cell_type": "code",
   "execution_count": 33,
   "metadata": {},
   "outputs": [
    {
     "data": {
      "text/plain": [
       "[0, 10, 20, 30]"
      ]
     },
     "execution_count": 33,
     "metadata": {},
     "output_type": "execute_result"
    }
   ],
   "source": [
    "def hate_40(num: int|float) -> list[float|int]:\n",
    "    for i in range(num):\n",
    "        if i*10 != 40:\n",
    "            yield i * 10 # если есть yield, то именно он будет возвращаит значения, а return просто делает StopItteration\n",
    "        else:\n",
    "            return #return главнее yield, когда встречается reutrn, yield перестаёт работатб\n",
    "\n",
    "list(hate_40(6))"
   ]
  }
 ],
 "metadata": {
  "kernelspec": {
   "display_name": "Python 3",
   "language": "python",
   "name": "python3"
  },
  "language_info": {
   "codemirror_mode": {
    "name": "ipython",
    "version": 3
   },
   "file_extension": ".py",
   "mimetype": "text/x-python",
   "name": "python",
   "nbconvert_exporter": "python",
   "pygments_lexer": "ipython3",
   "version": "3.11.1"
  }
 },
 "nbformat": 4,
 "nbformat_minor": 2
}
