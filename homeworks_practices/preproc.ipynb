{
 "cells": [
  {
   "cell_type": "markdown",
   "metadata": {},
   "source": [
    "1. Выполнить предобработку текстов выбранного писателя. Инструментарий предобработки оформить в виде метода.\n",
    "2. Посчитать косинусное сходство текстов. Оформить также в виде метода. Допустимые библиотеки: numpy и sklearn."
   ]
  },
  {
   "cell_type": "code",
   "execution_count": null,
   "metadata": {},
   "outputs": [],
   "source": [
    "%pip install -U pymorphy3-dicts-ru"
   ]
  },
  {
   "cell_type": "code",
   "execution_count": 35,
   "metadata": {},
   "outputs": [],
   "source": [
    "from nltk.corpus import stopwords\n",
    "from nltk.tokenize import RegexpTokenizer\n",
    "import pymorphy3\n",
    "import nltk\n",
    "import codecs\n",
    "import os\n",
    "\n",
    "import numpy as np\n",
    "from sklearn.feature_extraction.text import CountVectorizer\n",
    "from sklearn.metrics.pairwise import cosine_similarity"
   ]
  },
  {
   "cell_type": "code",
   "execution_count": 36,
   "metadata": {},
   "outputs": [
    {
     "name": "stderr",
     "output_type": "stream",
     "text": [
      "[nltk_data] Downloading package punkt to\n",
      "[nltk_data]     C:\\Users\\1\\AppData\\Roaming\\nltk_data...\n",
      "[nltk_data]   Package punkt is already up-to-date!\n"
     ]
    }
   ],
   "source": [
    "nltk.download('punkt')\n",
    "stop = stopwords.words(\"russian\")\n",
    "morph = pymorphy3.MorphAnalyzer()"
   ]
  },
  {
   "cell_type": "code",
   "execution_count": 37,
   "metadata": {},
   "outputs": [],
   "source": [
    "# class text():\n",
    "\n",
    "# def optokfil(filename):\n",
    "#         with codecs.open(filename, \"r\", \"utf-8\") as my_file:\n",
    "#             text = my_file.read().lower()\n",
    "#         tokenized = RegexpTokenizer(r'\\w+').tokenize(text)\n",
    "\n",
    "#         lemmatized = []\n",
    "#         for word in tokenized:\n",
    "#             word = morph.parse(word)[0].normal_form\n",
    "#             lemmatized.append(word)\n",
    "        \n",
    "#         words_filtered = [word for word in lemmatized if word not in stop]\n",
    "#         words_joined = \" \".join(words_filtered)\n",
    "#         return words_joined\n",
    "#не стала оформлять в класс, нет необходимости, та же функция"
   ]
  },
  {
   "cell_type": "code",
   "execution_count": 38,
   "metadata": {},
   "outputs": [],
   "source": [
    "def optokfil(filename): #open, tokenize, filter\n",
    "        with codecs.open(filename, \"r\", \"utf-8\") as my_file:\n",
    "            text = my_file.read().lower()\n",
    "        tokenized = RegexpTokenizer(r'\\w+').tokenize(text)\n",
    "\n",
    "        lemmatized = []\n",
    "        for word in tokenized:\n",
    "            word = morph.parse(word)[0].normal_form\n",
    "            lemmatized.append(word)\n",
    "        \n",
    "        words_filtered = [word for word in lemmatized if word not in stop]\n",
    "        words_joined = \" \".join(words_filtered)\n",
    "        return words_joined"
   ]
  },
  {
   "cell_type": "code",
   "execution_count": 39,
   "metadata": {},
   "outputs": [],
   "source": [
    "text_list = []\n",
    "for file in os.scandir(\"6_texts\"):\n",
    "    text_list.append(optokfil(file.path))"
   ]
  },
  {
   "cell_type": "code",
   "execution_count": 40,
   "metadata": {},
   "outputs": [
    {
     "name": "stdout",
     "output_type": "stream",
     "text": [
      "    ант_ябл    суходол  ночной_разг господин_сф жизнь_арс поздний_ч \n",
      "[[1.         0.58377369 0.48138843 0.47952725 0.66845403 0.47186851]\n",
      " [0.58377369 1.         0.5748729  0.54953515 0.75284478 0.50042837]\n",
      " [0.48138843 0.5748729  1.         0.47027167 0.64116593 0.42966467]\n",
      " [0.47952725 0.54953515 0.47027167 1.         0.67151551 0.43336555]\n",
      " [0.66845403 0.75284478 0.64116593 0.67151551 1.         0.65429049]\n",
      " [0.47186851 0.50042837 0.42966467 0.43336555 0.65429049 1.        ]]\n"
     ]
    }
   ],
   "source": [
    "count_vectorizer = CountVectorizer()\n",
    "sparse_matrix = count_vectorizer.fit_transform(l)\n",
    "print (\"    ант_ябл    суходол  ночной_разг господин_сф жизнь_арс поздний_ч \")\n",
    "print (cosine_similarity(sparse_matrix))\n",
    "# названия произведений по вертикали соответствуют горизонтали, можно ориентироваться по единице в диагонали"
   ]
  }
 ],
 "metadata": {
  "kernelspec": {
   "display_name": "Python 3",
   "language": "python",
   "name": "python3"
  },
  "language_info": {
   "codemirror_mode": {
    "name": "ipython",
    "version": 3
   },
   "file_extension": ".py",
   "mimetype": "text/x-python",
   "name": "python",
   "nbconvert_exporter": "python",
   "pygments_lexer": "ipython3",
   "version": "3.11.1"
  }
 },
 "nbformat": 4,
 "nbformat_minor": 2
}
