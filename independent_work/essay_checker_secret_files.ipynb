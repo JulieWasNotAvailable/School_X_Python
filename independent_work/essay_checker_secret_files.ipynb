{
 "cells": [
  {
   "cell_type": "code",
   "execution_count": null,
   "metadata": {},
   "outputs": [],
   "source": [
    "%pip install \"/C:/Users/1/PycharmProjects/i_love_tuesdays/testing_neuro_punct/neuro-comma-master\""
   ]
  },
  {
   "cell_type": "code",
   "execution_count": null,
   "metadata": {},
   "outputs": [],
   "source": [
    "%pip install -U pip wheel setuptools"
   ]
  },
  {
   "cell_type": "code",
   "execution_count": null,
   "metadata": {},
   "outputs": [],
   "source": [
    "%pip install -r \"C:/Users/1/PycharmProjects/i_love_tuesdays/testing_neuro_punct/neuro-comma-master/requirements.txt\""
   ]
  },
  {
   "cell_type": "code",
   "execution_count": 3,
   "metadata": {},
   "outputs": [
    {
     "name": "stderr",
     "output_type": "stream",
     "text": [
      "curl: option --proto: is badly used here\n",
      "curl: try 'curl --help' for more information\n"
     ]
    }
   ],
   "source": [
    "!curl --proto '=https' --tlsv1.2 -sSf https://sh.rustup.rs | sh -s -- -y\n",
    "# source $HOME/.cargo/env\n",
    "# pip install -U pip wheel setuptools\n",
    "# pip install -r requirements.txt"
   ]
  },
  {
   "cell_type": "code",
   "execution_count": 6,
   "metadata": {},
   "outputs": [
    {
     "name": "stdout",
     "output_type": "stream",
     "text": [
      "Usage: curl [options...] <url>\n",
      "Invalid category provided, here is a list of all categories:\n",
      "\n",
      " auth        Different types of authentication methods\n",
      " connection  Low level networking operations\n",
      " curl        The command line tool itself\n",
      " dns         General DNS options\n",
      " file        FILE protocol options\n",
      " ftp         FTP protocol options\n",
      " http        HTTP and HTTPS protocol options\n",
      " imap        IMAP protocol options\n",
      " misc        Options that don't fit into any other category\n",
      " output      Filesystem output\n",
      " pop3        POP3 protocol options\n",
      " post        HTTP Post specific options\n",
      " proxy       All options related to proxies\n",
      " scp         SCP protocol options\n",
      " sftp        SFTP protocol options\n",
      " smtp        SMTP protocol options\n",
      " ssh         SSH protocol options\n",
      " telnet      TELNET protocol options\n",
      " tftp        TFTP protocol options\n",
      " tls         All TLS/SSL related options\n",
      " upload      All options for uploads\n",
      " verbose     Options related to any kind of command line output of curl\n"
     ]
    }
   ],
   "source": [
    "!curl --help proto"
   ]
  }
 ],
 "metadata": {
  "kernelspec": {
   "display_name": "Python 3",
   "language": "python",
   "name": "python3"
  },
  "language_info": {
   "codemirror_mode": {
    "name": "ipython",
    "version": 3
   },
   "file_extension": ".py",
   "mimetype": "text/x-python",
   "name": "python",
   "nbconvert_exporter": "python",
   "pygments_lexer": "ipython3",
   "version": "3.11.1"
  }
 },
 "nbformat": 4,
 "nbformat_minor": 2
}
