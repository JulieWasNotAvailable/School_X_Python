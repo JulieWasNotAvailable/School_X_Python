{
 "cells": [
  {
   "cell_type": "code",
   "execution_count": 3,
   "metadata": {},
   "outputs": [
    {
     "name": "stdout",
     "output_type": "stream",
     "text": [
      "Requirement already satisfied: numpy in c:\\users\\1\\appdata\\local\\programs\\python\\python311\\lib\\site-packages (1.26.0)\n",
      "Note: you may need to restart the kernel to use updated packages.\n"
     ]
    },
    {
     "name": "stderr",
     "output_type": "stream",
     "text": [
      "\n",
      "[notice] A new release of pip available: 22.3.1 -> 23.2.1\n",
      "[notice] To update, run: python.exe -m pip install --upgrade pip\n"
     ]
    }
   ],
   "source": [
    "#пример задания\n",
    "%pip install numpy\n",
    "import numpy as np\n",
    "#задание\n",
    "# создать класс Matrix, в котором будет храниться сама матрица, состоящая из листов,\n",
    "# методы на сложение, вычитание, умножение, деление, @ - скалярное произведение\n",
    "\n",
    "class Matrix:\n",
    "\n",
    "    def addition(self, m1: list, m2: list):\n",
    "        for m1 \n",
    "\n",
    "    "
   ]
  },
  {
   "cell_type": "code",
   "execution_count": 51,
   "metadata": {},
   "outputs": [
    {
     "name": "stdout",
     "output_type": "stream",
     "text": [
      "0\n",
      "1\n",
      "2\n",
      "0\n",
      "1\n",
      "2\n"
     ]
    }
   ],
   "source": [
    "m1 = [\n",
    "        [1,2,3],\n",
    "        [4,5,6]\n",
    "    ]\n",
    "    \n",
    "m2 = [\n",
    "        [1,-2,3],\n",
    "        [-4, 5,-6]\n",
    "    ]\n",
    "\n",
    "#можно было итерировать в одну строчку\n",
    "m2_row = []\n",
    "\n",
    "for row in m2:\n",
    "    for el in row:\n",
    "        m2_row.append(el)\n",
    "\n",
    "\n",
    "ind_m2 = 0\n",
    "m_sum_row = []\n",
    "\n",
    "for row in m1:\n",
    "    for index in range(len(row)):\n",
    "        row[index] = row[index] + m2_row[ind_m2]\n",
    "        \n",
    "\n",
    "\n",
    "\n",
    "\n",
    "\n",
    "\n",
    "# n_rows = len(m1)\n",
    "# n_col = len(m_sum_row)/n_rows\n",
    "\n",
    "#мне просто нужно трансформировать один лист в n_row листов\n",
    "#элементы с 0 по n_col пойдут в листы, \n",
    "    "
   ]
  }
 ],
 "metadata": {
  "kernelspec": {
   "display_name": "Python 3",
   "language": "python",
   "name": "python3"
  },
  "language_info": {
   "codemirror_mode": {
    "name": "ipython",
    "version": 3
   },
   "file_extension": ".py",
   "mimetype": "text/x-python",
   "name": "python",
   "nbconvert_exporter": "python",
   "pygments_lexer": "ipython3",
   "version": "3.11.1"
  },
  "orig_nbformat": 4
 },
 "nbformat": 4,
 "nbformat_minor": 2
}
