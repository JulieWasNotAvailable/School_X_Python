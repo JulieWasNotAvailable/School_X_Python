{
 "cells": [
  {
   "cell_type": "code",
   "execution_count": null,
   "id": "7969aabc-a17b-49da-b610-2956972289b2",
   "metadata": {},
   "outputs": [],
   "source": [
    "%pip install -q rich\n",
    "#рич просто красиво принтит\n",
    "from rich import print"
   ]
  },
  {
   "cell_type": "code",
   "execution_count": 19,
   "id": "db15ab73-ae06-4b12-8a96-c8cdfa421a47",
   "metadata": {
    "editable": true,
    "slideshow": {
     "slide_type": ""
    },
    "tags": []
   },
   "outputs": [],
   "source": [
    "tree = {\n",
    "    1: {\n",
    "        \"first_inner\": {\n",
    "            1: \"text\",\n",
    "            2: \"text\",\n",
    "            3: \"text\",\n",
    "        }\n",
    "    },\n",
    "    2: {\n",
    "        \"second_inner\": {\n",
    "            \"second_2_inner\": {\n",
    "                \"second_3_inner_1\" : {\n",
    "                    1: \"folder\",\n",
    "                    2: \"folder\",\n",
    "                    3: \"target_folder\",\n",
    "                },\n",
    "                2: [1,2,3]\n",
    "            }\n",
    "        }\n",
    "    }\n",
    "}"
   ]
  },
  {
   "cell_type": "code",
   "execution_count": 3,
   "id": "d94a0619-b8e3-49b1-823e-cd32dafef69c",
   "metadata": {},
   "outputs": [
    {
     "data": {
      "text/plain": [
       "{1: {1: {1: 'text', 2: 'text', 3: 'text'}},\n",
       " 2: {1: {1: {1: {1: 'folder', 2: 'folder', 3: 'target_folder'},\n",
       "    2: [1, 2, 3]}}}}"
      ]
     },
     "execution_count": 3,
     "metadata": {},
     "output_type": "execute_result"
    }
   ],
   "source": [
    "tree"
   ]
  },
  {
   "cell_type": "code",
   "execution_count": null,
   "id": "a11cedc4-fbe6-43cd-884d-3b55b34797d7",
   "metadata": {},
   "outputs": [],
   "source": [
    "#Нужно написать фукнцию - поисковик target folder"
   ]
  },
  {
   "cell_type": "code",
   "execution_count": 29,
   "id": "6f9d6aa1-19a9-45f7-8025-93f403498150",
   "metadata": {
    "editable": true,
    "slideshow": {
     "slide_type": ""
    },
    "tags": []
   },
   "outputs": [],
   "source": [
    "def rec_find(tree: dict, name: str):\n",
    "    for key, value in tree.items():\n",
    "        if isinstance (value,dict): #равно ли value типу переменной\n",
    "#           print(f'ключ - {key}, значение - {value}\\n') если вставить сюда, можно будет посмотреть процесс целиком\n",
    "            rec_find(value, name)\n",
    "        else:\n",
    "            if value == name:\n",
    "                print(\"Found it\")\n",
    "                break\n",
    "#функция смотрит, есть ли внутри dict, и если есть, то заходит в него\n",
    "#в рекурсии не контролитруется уровнеь глубины спуска, что хорошо, потому что такая штука используется при поиске файлов в папках"
   ]
  },
  {
   "cell_type": "code",
   "execution_count": 30,
   "id": "6f44187d-8c0a-4be4-9b3f-a58182ceee29",
   "metadata": {},
   "outputs": [
    {
     "name": "stdout",
     "output_type": "stream",
     "text": [
      "Found it\n"
     ]
    }
   ],
   "source": [
    "rec_find(tree, \"target_folder\")"
   ]
  },
  {
   "cell_type": "code",
   "execution_count": null,
   "id": "87d82ff7-c1e7-402b-96e6-2637c5ff3d55",
   "metadata": {},
   "outputs": [],
   "source": []
  },
  {
   "cell_type": "code",
   "execution_count": null,
   "id": "c9b2a6c0-04e4-4918-b6e1-0dfa330c8f5b",
   "metadata": {},
   "outputs": [],
   "source": []
  },
  {
   "cell_type": "code",
   "execution_count": null,
   "id": "79329603-21c0-42c5-a87c-5a87a25b0385",
   "metadata": {},
   "outputs": [],
   "source": []
  },
  {
   "cell_type": "code",
   "execution_count": null,
   "id": "67519031-2bd9-4319-9fcb-284b0d334c95",
   "metadata": {},
   "outputs": [],
   "source": []
  },
  {
   "cell_type": "code",
   "execution_count": null,
   "id": "5573e5eb-0311-433e-be9e-1b408a8b1502",
   "metadata": {},
   "outputs": [],
   "source": []
  }
 ],
 "metadata": {
  "kernelspec": {
   "display_name": "Python 3 (ipykernel)",
   "language": "python",
   "name": "python3"
  },
  "language_info": {
   "codemirror_mode": {
    "name": "ipython",
    "version": 3
   },
   "file_extension": ".py",
   "mimetype": "text/x-python",
   "name": "python",
   "nbconvert_exporter": "python",
   "pygments_lexer": "ipython3",
   "version": "3.11.1"
  }
 },
 "nbformat": 4,
 "nbformat_minor": 5
}
