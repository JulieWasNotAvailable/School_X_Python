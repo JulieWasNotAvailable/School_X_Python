{
 "cells": [
  {
   "cell_type": "code",
   "execution_count": 40,
   "metadata": {},
   "outputs": [],
   "source": [
    "from nltk import ToktokTokenizer\n",
    "from nltk import WordPunctTokenizer\n",
    "import codecs"
   ]
  },
  {
   "cell_type": "code",
   "execution_count": 53,
   "metadata": {},
   "outputs": [
    {
     "data": {
      "text/plain": [
       "['nice']"
      ]
     },
     "execution_count": 53,
     "metadata": {},
     "output_type": "execute_result"
    }
   ],
   "source": [
    "chas = open(\"4_gospodin_iz_sanfran_tok_1915.txt\",\"r\")\n",
    "\n",
    "file = codecs.open(\"6_pozniy_chas_1938_tok.txt\", \"r\", \"utf-8\" )\n",
    "data = file.read()\n",
    "file.close()\n",
    "\n",
    "data2 = WordPunctTokenizer().tokenize(data)\n",
    "\n",
    "txt = [\"!\", \"nice\"]\n",
    "\n",
    "punct = \"!#$%&'()*+, -./:;<=>?\\\"@[\\]^_`{|}~\"\n",
    "for el in txt:\n",
    "    if el in punct:\n",
    "        txt.remove(el)\n",
    "\n",
    "txt"
   ]
  },
  {
   "cell_type": "code",
   "execution_count": null,
   "metadata": {},
   "outputs": [],
   "source": [
    "def clean_tokenizer(adress):\n",
    "    file = open(adress, \"r\", encoding = \"utf-8\")\n",
    "    text = file.read().lower()\n",
    "    file.close()\n",
    "    text = WordPunctTokenizer().tokenize(text)\n",
    "    words_filtered = [word for word in text if word not in stop]\n",
    "\n",
    "    punct = \"!#$%&'()*+, -./:;<=>?\\\"@[\\]^_`{|}~\"\n",
    "\n",
    "    new = []\n",
    "    for word in words_filtered:\n",
    "        if word in punct:\n",
    "            words_filtered.remove(word)\n",
    "        else:\n",
    "            new.append(word)\n",
    "\n",
    "    return new"
   ]
  },
  {
   "cell_type": "markdown",
   "metadata": {},
   "source": [
    "\"--\" \"I\" \"--\""
   ]
  },
  {
   "cell_type": "code",
   "execution_count": null,
   "metadata": {},
   "outputs": [],
   "source": [
    "def clean_tokenizer(adress):\n",
    "    file = open(adress, \"r\", encoding = \"utf-8\")\n",
    "    text = file.read().lower()\n",
    "    file.close()\n",
    "    text = WordPunctTokenizer().tokenize(text)\n",
    "    words_filtered = [word for word in text if word not in stop]\n",
    "\n",
    "    punct = [\"!#$%&'()*+, -./:;<=>?\\\"@[\\]^_`{|}~\", \"--\", chr(8230)]\n",
    "\n",
    "    new = []\n",
    "    for word in words_filtered:\n",
    "        if word in punct:\n",
    "            words_filtered.remove(word)\n",
    "        else:\n",
    "            new.append(word)\n",
    "\n",
    "    return new"
   ]
  },
  {
   "cell_type": "code",
   "execution_count": 54,
   "metadata": {},
   "outputs": [
    {
     "data": {
      "text/plain": [
       "'\".'"
      ]
     },
     "execution_count": 54,
     "metadata": {},
     "output_type": "execute_result"
    }
   ],
   "source": []
  }
 ],
 "metadata": {
  "kernelspec": {
   "display_name": "Python 3",
   "language": "python",
   "name": "python3"
  },
  "language_info": {
   "codemirror_mode": {
    "name": "ipython",
    "version": 3
   },
   "file_extension": ".py",
   "mimetype": "text/x-python",
   "name": "python",
   "nbconvert_exporter": "python",
   "pygments_lexer": "ipython3",
   "version": "3.11.1"
  }
 },
 "nbformat": 4,
 "nbformat_minor": 2
}
