{
 "cells": [
  {
   "cell_type": "code",
   "execution_count": 1,
   "id": "7cde9ebe-67f1-478f-af21-eba0a50bc082",
   "metadata": {
    "editable": true,
    "slideshow": {
     "slide_type": ""
    },
    "tags": []
   },
   "outputs": [],
   "source": [
    "class MixinFlyable:\n",
    "    def fly(self):\n",
    "        print(\"I fly\")\n",
    "\n",
    "class MixinWalkable:\n",
    "    def walk(self):\n",
    "        print(\"I walk\")\n",
    "\n",
    "class MixinSwimable:\n",
    "    def swim(self):\n",
    "        print (\"I swim\")\n",
    "\n",
    "class MixinTalkable:\n",
    "    def make_noise(self):\n",
    "        print (\"tweet\")"
   ]
  },
  {
   "cell_type": "code",
   "execution_count": 2,
   "id": "42293b43-a2fe-4855-bcd3-ea34bb63a0dd",
   "metadata": {},
   "outputs": [],
   "source": [
    "class BaseBird():\n",
    "        wings_length_cm: float = 12.5,\n",
    "        legs_length_cm: float = 10,\n",
    "        color: str = \"red\"\n",
    "    \n",
    "        def __init__ (\n",
    "                self,\n",
    "                wings_length_cm: float = 12.5,\n",
    "                legs_length_cm: float = 10,\n",
    "                color: str = \"red\"\n",
    "    ):\n",
    "            self.wings_length = wings_length_cm\n",
    "            self.legs_length = legs_length_cm\n",
    "            self.color: str = color\n",
    "            print (\"BaseBird initialized\")"
   ]
  },
  {
   "cell_type": "code",
   "execution_count": 3,
   "id": "63a556f0-5ab8-42ed-b28a-2560dc0a3911",
   "metadata": {},
   "outputs": [],
   "source": [
    "class Bird(BaseBird, MixinFlyable, MixinWalkable, MixinSwimable, MixinTalkable):\n",
    "    pass"
   ]
  },
  {
   "cell_type": "code",
   "execution_count": 4,
   "id": "7b4f94e0-9fbd-42a7-bc39-b702f0f9ab04",
   "metadata": {
    "editable": true,
    "slideshow": {
     "slide_type": ""
    },
    "tags": []
   },
   "outputs": [
    {
     "name": "stdout",
     "output_type": "stream",
     "text": [
      "RubberToy initialized\n"
     ]
    }
   ],
   "source": [
    "class RubberToy:\n",
    "    toxic: bool = False\n",
    "    size_cm3: float = 12\n",
    "    color: str = \"yellow\"\n",
    "    \n",
    "    def __init__(\n",
    "        self,\n",
    "        toxic: bool = False,\n",
    "        size_cm3: float = 12,\n",
    "        color: str = \"yellow\",        \n",
    "    ):\n",
    "        self.toxic: bool = toxic\n",
    "        self.size_cm3: float = size_cm3,\n",
    "        self.color: str = color,\n",
    "    print (\"RubberToy initialized\")\n",
    "\n",
    "    def bounce(self):\n",
    "        print(\"plums\")\n",
    "    \n",
    "    def deform(self):\n",
    "        print(\"morphing time\")\n",
    "\n",
    "    def make_noise(self):\n",
    "        print(\"peep\")"
   ]
  },
  {
   "cell_type": "code",
   "execution_count": 5,
   "id": "55396b53-b4d9-4353-83bd-9337630c862a",
   "metadata": {},
   "outputs": [
    {
     "name": "stdout",
     "output_type": "stream",
     "text": [
      "I swim\n"
     ]
    }
   ],
   "source": [
    "bird1 = Bird\n",
    "bird1.swim(2)"
   ]
  },
  {
   "cell_type": "code",
   "execution_count": 6,
   "id": "94a6d1d2-408a-4f7e-a0ad-206a3f6acad6",
   "metadata": {
    "editable": true,
    "slideshow": {
     "slide_type": ""
    },
    "tags": []
   },
   "outputs": [
    {
     "ename": "NameError",
     "evalue": "name 'RubberBird' is not defined",
     "output_type": "error",
     "traceback": [
      "\u001b[1;31m---------------------------------------------------------------------------\u001b[0m",
      "\u001b[1;31mNameError\u001b[0m                                 Traceback (most recent call last)",
      "Cell \u001b[1;32mIn[6], line 1\u001b[0m\n\u001b[1;32m----> 1\u001b[0m rub_bird1 \u001b[38;5;241m=\u001b[39m \u001b[43mRubberBird\u001b[49m()\n\u001b[0;32m      2\u001b[0m rub_bird1\u001b[38;5;241m.\u001b[39mfly()\n",
      "\u001b[1;31mNameError\u001b[0m: name 'RubberBird' is not defined"
     ]
    }
   ],
   "source": [
    "rub_bird1 = RubberBird()\n",
    "rub_bird1.fly()"
   ]
  }
 ],
 "metadata": {
  "kernelspec": {
   "display_name": "Python 3 (ipykernel)",
   "language": "python",
   "name": "python3"
  },
  "language_info": {
   "codemirror_mode": {
    "name": "ipython",
    "version": 3
   },
   "file_extension": ".py",
   "mimetype": "text/x-python",
   "name": "python",
   "nbconvert_exporter": "python",
   "pygments_lexer": "ipython3",
   "version": "3.11.1"
  }
 },
 "nbformat": 4,
 "nbformat_minor": 5
}
