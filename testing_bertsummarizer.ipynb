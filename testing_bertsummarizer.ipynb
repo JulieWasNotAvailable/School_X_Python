{
 "cells": [
  {
   "cell_type": "code",
   "execution_count": 1,
   "metadata": {},
   "outputs": [
    {
     "name": "stdout",
     "output_type": "stream",
     "text": [
      "Collecting bert-extractive-summarizer\n",
      "  Downloading bert_extractive_summarizer-0.10.1-py3-none-any.whl (25 kB)\n",
      "Requirement already satisfied: transformers in c:\\users\\1\\appdata\\local\\programs\\python\\python311\\lib\\site-packages (from bert-extractive-summarizer) (4.35.2)\n",
      "Requirement already satisfied: scikit-learn in c:\\users\\1\\appdata\\local\\programs\\python\\python311\\lib\\site-packages (from bert-extractive-summarizer) (1.3.1)\n",
      "Requirement already satisfied: spacy in c:\\users\\1\\appdata\\local\\programs\\python\\python311\\lib\\site-packages (from bert-extractive-summarizer) (3.7.1)\n",
      "Requirement already satisfied: numpy<2.0,>=1.17.3 in c:\\users\\1\\appdata\\local\\programs\\python\\python311\\lib\\site-packages (from scikit-learn->bert-extractive-summarizer) (1.26.1)\n",
      "Requirement already satisfied: scipy>=1.5.0 in c:\\users\\1\\appdata\\local\\programs\\python\\python311\\lib\\site-packages (from scikit-learn->bert-extractive-summarizer) (1.11.3)\n",
      "Requirement already satisfied: joblib>=1.1.1 in c:\\users\\1\\appdata\\local\\programs\\python\\python311\\lib\\site-packages (from scikit-learn->bert-extractive-summarizer) (1.3.2)\n",
      "Requirement already satisfied: threadpoolctl>=2.0.0 in c:\\users\\1\\appdata\\local\\programs\\python\\python311\\lib\\site-packages (from scikit-learn->bert-extractive-summarizer) (3.2.0)\n",
      "Requirement already satisfied: spacy-legacy<3.1.0,>=3.0.11 in c:\\users\\1\\appdata\\local\\programs\\python\\python311\\lib\\site-packages (from spacy->bert-extractive-summarizer) (3.0.12)\n",
      "Requirement already satisfied: spacy-loggers<2.0.0,>=1.0.0 in c:\\users\\1\\appdata\\local\\programs\\python\\python311\\lib\\site-packages (from spacy->bert-extractive-summarizer) (1.0.5)\n",
      "Requirement already satisfied: murmurhash<1.1.0,>=0.28.0 in c:\\users\\1\\appdata\\local\\programs\\python\\python311\\lib\\site-packages (from spacy->bert-extractive-summarizer) (1.0.10)\n",
      "Requirement already satisfied: cymem<2.1.0,>=2.0.2 in c:\\users\\1\\appdata\\local\\programs\\python\\python311\\lib\\site-packages (from spacy->bert-extractive-summarizer) (2.0.8)\n",
      "Requirement already satisfied: preshed<3.1.0,>=3.0.2 in c:\\users\\1\\appdata\\local\\programs\\python\\python311\\lib\\site-packages (from spacy->bert-extractive-summarizer) (3.0.9)\n",
      "Requirement already satisfied: thinc<8.3.0,>=8.1.8 in c:\\users\\1\\appdata\\local\\programs\\python\\python311\\lib\\site-packages (from spacy->bert-extractive-summarizer) (8.2.1)\n",
      "Requirement already satisfied: wasabi<1.2.0,>=0.9.1 in c:\\users\\1\\appdata\\local\\programs\\python\\python311\\lib\\site-packages (from spacy->bert-extractive-summarizer) (1.1.2)\n",
      "Requirement already satisfied: srsly<3.0.0,>=2.4.3 in c:\\users\\1\\appdata\\local\\programs\\python\\python311\\lib\\site-packages (from spacy->bert-extractive-summarizer) (2.4.8)\n",
      "Requirement already satisfied: catalogue<2.1.0,>=2.0.6 in c:\\users\\1\\appdata\\local\\programs\\python\\python311\\lib\\site-packages (from spacy->bert-extractive-summarizer) (2.0.10)\n",
      "Requirement already satisfied: weasel<0.4.0,>=0.1.0 in c:\\users\\1\\appdata\\local\\programs\\python\\python311\\lib\\site-packages (from spacy->bert-extractive-summarizer) (0.3.2)\n",
      "Requirement already satisfied: typer<0.10.0,>=0.3.0 in c:\\users\\1\\appdata\\local\\programs\\python\\python311\\lib\\site-packages (from spacy->bert-extractive-summarizer) (0.9.0)\n",
      "Requirement already satisfied: pathy>=0.10.0 in c:\\users\\1\\appdata\\local\\programs\\python\\python311\\lib\\site-packages (from spacy->bert-extractive-summarizer) (0.10.2)\n",
      "Requirement already satisfied: smart-open<7.0.0,>=5.2.1 in c:\\users\\1\\appdata\\local\\programs\\python\\python311\\lib\\site-packages (from spacy->bert-extractive-summarizer) (6.4.0)\n",
      "Requirement already satisfied: tqdm<5.0.0,>=4.38.0 in c:\\users\\1\\appdata\\local\\programs\\python\\python311\\lib\\site-packages (from spacy->bert-extractive-summarizer) (4.66.1)\n",
      "Requirement already satisfied: requests<3.0.0,>=2.13.0 in c:\\users\\1\\appdata\\local\\programs\\python\\python311\\lib\\site-packages (from spacy->bert-extractive-summarizer) (2.31.0)\n",
      "Requirement already satisfied: pydantic!=1.8,!=1.8.1,<3.0.0,>=1.7.4 in c:\\users\\1\\appdata\\local\\programs\\python\\python311\\lib\\site-packages (from spacy->bert-extractive-summarizer) (2.4.2)\n",
      "Requirement already satisfied: jinja2 in c:\\users\\1\\appdata\\local\\programs\\python\\python311\\lib\\site-packages (from spacy->bert-extractive-summarizer) (3.1.2)\n",
      "Requirement already satisfied: setuptools in c:\\users\\1\\appdata\\local\\programs\\python\\python311\\lib\\site-packages (from spacy->bert-extractive-summarizer) (69.0.2)\n",
      "Requirement already satisfied: packaging>=20.0 in c:\\users\\1\\appdata\\roaming\\python\\python311\\site-packages (from spacy->bert-extractive-summarizer) (23.1)\n",
      "Requirement already satisfied: langcodes<4.0.0,>=3.2.0 in c:\\users\\1\\appdata\\local\\programs\\python\\python311\\lib\\site-packages (from spacy->bert-extractive-summarizer) (3.3.0)\n",
      "Requirement already satisfied: filelock in c:\\users\\1\\appdata\\local\\programs\\python\\python311\\lib\\site-packages (from transformers->bert-extractive-summarizer) (3.9.0)\n",
      "Requirement already satisfied: huggingface-hub<1.0,>=0.16.4 in c:\\users\\1\\appdata\\local\\programs\\python\\python311\\lib\\site-packages (from transformers->bert-extractive-summarizer) (0.19.4)\n",
      "Requirement already satisfied: pyyaml>=5.1 in c:\\users\\1\\appdata\\local\\programs\\python\\python311\\lib\\site-packages (from transformers->bert-extractive-summarizer) (6.0.1)\n",
      "Requirement already satisfied: regex!=2019.12.17 in c:\\users\\1\\appdata\\local\\programs\\python\\python311\\lib\\site-packages (from transformers->bert-extractive-summarizer) (2023.10.3)\n",
      "Requirement already satisfied: tokenizers<0.19,>=0.14 in c:\\users\\1\\appdata\\local\\programs\\python\\python311\\lib\\site-packages (from transformers->bert-extractive-summarizer) (0.15.0)\n",
      "Requirement already satisfied: safetensors>=0.3.1 in c:\\users\\1\\appdata\\local\\programs\\python\\python311\\lib\\site-packages (from transformers->bert-extractive-summarizer) (0.4.0)\n",
      "Requirement already satisfied: fsspec>=2023.5.0 in c:\\users\\1\\appdata\\local\\programs\\python\\python311\\lib\\site-packages (from huggingface-hub<1.0,>=0.16.4->transformers->bert-extractive-summarizer) (2023.10.0)\n",
      "Requirement already satisfied: typing-extensions>=3.7.4.3 in c:\\users\\1\\appdata\\local\\programs\\python\\python311\\lib\\site-packages (from huggingface-hub<1.0,>=0.16.4->transformers->bert-extractive-summarizer) (4.8.0)\n",
      "Requirement already satisfied: annotated-types>=0.4.0 in c:\\users\\1\\appdata\\local\\programs\\python\\python311\\lib\\site-packages (from pydantic!=1.8,!=1.8.1,<3.0.0,>=1.7.4->spacy->bert-extractive-summarizer) (0.6.0)\n",
      "Requirement already satisfied: pydantic-core==2.10.1 in c:\\users\\1\\appdata\\local\\programs\\python\\python311\\lib\\site-packages (from pydantic!=1.8,!=1.8.1,<3.0.0,>=1.7.4->spacy->bert-extractive-summarizer) (2.10.1)\n",
      "Requirement already satisfied: charset-normalizer<4,>=2 in c:\\users\\1\\appdata\\local\\programs\\python\\python311\\lib\\site-packages (from requests<3.0.0,>=2.13.0->spacy->bert-extractive-summarizer) (3.2.0)\n",
      "Requirement already satisfied: idna<4,>=2.5 in c:\\users\\1\\appdata\\local\\programs\\python\\python311\\lib\\site-packages (from requests<3.0.0,>=2.13.0->spacy->bert-extractive-summarizer) (2.10)\n",
      "Requirement already satisfied: urllib3<3,>=1.21.1 in c:\\users\\1\\appdata\\local\\programs\\python\\python311\\lib\\site-packages (from requests<3.0.0,>=2.13.0->spacy->bert-extractive-summarizer) (2.0.5)\n",
      "Requirement already satisfied: certifi>=2017.4.17 in c:\\users\\1\\appdata\\local\\programs\\python\\python311\\lib\\site-packages (from requests<3.0.0,>=2.13.0->spacy->bert-extractive-summarizer) (2023.7.22)\n",
      "Requirement already satisfied: blis<0.8.0,>=0.7.8 in c:\\users\\1\\appdata\\local\\programs\\python\\python311\\lib\\site-packages (from thinc<8.3.0,>=8.1.8->spacy->bert-extractive-summarizer) (0.7.11)\n",
      "Requirement already satisfied: confection<1.0.0,>=0.0.1 in c:\\users\\1\\appdata\\local\\programs\\python\\python311\\lib\\site-packages (from thinc<8.3.0,>=8.1.8->spacy->bert-extractive-summarizer) (0.1.3)\n",
      "Requirement already satisfied: colorama in c:\\users\\1\\appdata\\roaming\\python\\python311\\site-packages (from tqdm<5.0.0,>=4.38.0->spacy->bert-extractive-summarizer) (0.4.6)\n",
      "Requirement already satisfied: click<9.0.0,>=7.1.1 in c:\\users\\1\\appdata\\roaming\\python\\python311\\site-packages (from typer<0.10.0,>=0.3.0->spacy->bert-extractive-summarizer) (8.1.7)\n",
      "Requirement already satisfied: cloudpathlib<0.16.0,>=0.7.0 in c:\\users\\1\\appdata\\local\\programs\\python\\python311\\lib\\site-packages (from weasel<0.4.0,>=0.1.0->spacy->bert-extractive-summarizer) (0.15.1)\n",
      "Requirement already satisfied: MarkupSafe>=2.0 in c:\\users\\1\\appdata\\local\\programs\\python\\python311\\lib\\site-packages (from jinja2->spacy->bert-extractive-summarizer) (2.1.3)\n",
      "Installing collected packages: bert-extractive-summarizer\n",
      "Successfully installed bert-extractive-summarizer-0.10.1\n",
      "Note: you may need to restart the kernel to use updated packages.\n"
     ]
    }
   ],
   "source": [
    "%pip install bert-extractive-summarizer"
   ]
  },
  {
   "cell_type": "code",
   "execution_count": 4,
   "metadata": {},
   "outputs": [
    {
     "name": "stderr",
     "output_type": "stream",
     "text": [
      "c:\\Users\\1\\AppData\\Local\\Programs\\Python\\Python311\\Lib\\site-packages\\sklearn\\cluster\\_kmeans.py:1416: FutureWarning: The default value of `n_init` will change from 10 to 'auto' in 1.4. Set the value of `n_init` explicitly to suppress the warning\n",
      "  super()._check_params_vs_input(X, default_n_init=10)\n"
     ]
    },
    {
     "data": {
      "text/plain": [
       "'В мире огромное количество профессий и каждый выпускник встает перед выбором «Кем стать?». Это - один из самых ответственных моментов в нашей жизни, потому что  где-то есть одна единственная, твоя профессия. Это особая миссия, особый склад души и ума, ответственность, самоотдача, терпение, приумноженное знаниями, мастерством и  творческим потенциалом. Сегодня современное общество ставит перед учителем новые требования. Люблю, когда на уроке дети делают открытия и восклицают: «Неужели!», « Трудно передать словами, это нужно почувствовать…\\n\\nНаша профессия настолько «жива», что не позволяет нам стоять на месте, она требует постоянно быть в курсе всех событий.'"
      ]
     },
     "execution_count": 4,
     "metadata": {},
     "output_type": "execute_result"
    }
   ],
   "source": [
    "from summarizer import Summarizer\n",
    "\n",
    "body = 'Text body that you want to summarize with BERT'\n",
    "body2 = '''В мире огромное количество профессий и каждый выпускник встает перед выбором «Кем стать?». Это - один из самых ответственных моментов в нашей жизни, потому что  где-то есть одна единственная, твоя профессия.  \n",
    "\n",
    "Говорят, что счастлив тот, кто утром идет с удовольствием на работу, а вечером с радостью возвращается домой. Это об учителе. Разными путями приходят в школу учителя, по-разному складываются их педагогические судьбы ... Кто-то с детства видит в этой профессии свое предназначение и стремится к этой цели изначально, а кто-то приходит случайно или, наоборот,  не каждый, получив диплом об окончании педагогического университета, идет работать в школу.\n",
    "\n",
    "Учитель – это не просто профессия!  Это особая миссия, особый склад души и ума, ответственность, самоотдача, терпение, приумноженное знаниями, мастерством и  творческим потенциалом. Работать, выполняя только должностные обязанности – нельзя! Быть учителем -  не для равнодушных людей, так как требует много душевных и эмоциональных затрат. Учитель – это образ жизни!\n",
    "\n",
    "Еще учась в школе и глядя на своего учителя, я мечтала быть похожей на нее.  Ее профессионализм, уважение и искренность в общении с нами, умение найти подход к каждому ученику – все это помогло мне определиться в выборе моей будущей профессии.\n",
    "\n",
    "Сегодня современное общество ставит перед учителем новые требования. Учитель – это научный руководитель, наставник, исследователь и специалист по использованию информационно - коммуникативных технологий.\n",
    "\n",
    "Я считаю, что знания, заложенные мной, должны принести пользу ученикам и пригодиться им в дальнейшей жизни. Для этого необходимо хорошо знать преподаваемый предмет, владеть разнообразными способами обучения и воспитания, обладать огромным  терпением, а главное постоянно учиться и самосовершенствоваться. Учу детей и одновременно учусь и сама!  Ведь личный пример   по сей день является одним из самых эффективных методов воспитания. Люблю, когда на уроке дети делают открытия и восклицают: «Неужели!», «Не может быть!» Я учу их  удивляться и удивлять, учу радоваться жизни и дарить радость другим.\n",
    "\n",
    "Мы вместе, мы рядом, а это значит, что у нас общие победы и поражения, множество неповторимых мгновений, пережитых вместе, таких ценных и оставляющих что-то теплое в душе. Трудно передать словами, это нужно почувствовать…\n",
    "\n",
    "Наша профессия настолько «жива», что не позволяет нам стоять на месте, она требует постоянно быть в курсе всех событий. Стараюсь, чтобы новое поколение чувствовало во мне человека, живущего их временем, их интересами.\n",
    "\n",
    " Известный писатель С.Л.Соловейчик, писал об учителе: «Он артист, но его слушатели и зрители не аплодируют ему. Он – скульптор, но его труда никто не видит. Он – врач, но его пациенты редко благодарят его за лечение и далеко не всегда хотят лечиться. Где же ему взять силы для каждодневного вдохновения? Только в самом себе, только в сознании величия своего дела». Каждый день я открываю школьную дверь  и захожу в класс. Вновь звенит звонок, ко мне обращаются взоры моих учеников, их светлые, ясные, чистые глаза, любопытные, верящие, добрые. Они многого ожидают от меня…Я счастливый человек, потому что выбрала своё дело и полюбила его на всю жизнь, у меня есть возможность вновь и вновь познавать этот необыкновенный мир вместе со своими учениками.'''\n",
    "model = Summarizer()\n",
    "model(body) \n",
    "model(body2)"
   ]
  }
 ],
 "metadata": {
  "kernelspec": {
   "display_name": "Python 3",
   "language": "python",
   "name": "python3"
  },
  "language_info": {
   "codemirror_mode": {
    "name": "ipython",
    "version": 3
   },
   "file_extension": ".py",
   "mimetype": "text/x-python",
   "name": "python",
   "nbconvert_exporter": "python",
   "pygments_lexer": "ipython3",
   "version": "3.11.1"
  }
 },
 "nbformat": 4,
 "nbformat_minor": 2
}
