{
 "cells": [
  {
   "cell_type": "code",
   "execution_count": 1,
   "id": "c0488d3a-155e-496f-a727-65ada65bab5b",
   "metadata": {},
   "outputs": [],
   "source": [
    "class Character:\n",
    "\n",
    "    iq = 100\n",
    "    dexterity = 100 \n",
    "    strength = 100\n",
    "    speed = 100\n",
    "    health = 100\n",
    "    \n",
    "    def talk (self, speech: str):\n",
    "        print (f\"Персонаж сказал: \\\"{speech}\\\"\")\n",
    "    def move (self, cell: int):\n",
    "        print (f\"Персонаж передвинулся на {cell} клеток\") \n",
    "    def jump (self):\n",
    "        print (\"Персонаж прыгнул\")\n",
    "    def sit (self):\n",
    "        print (\"Персонаж сел\")\n",
    "    def trade (self, number: int, goods: str):\n",
    "        print (f\"Герой хочет продать вам {number} {goods}\")"
   ]
  },
  {
   "cell_type": "code",
   "execution_count": 2,
   "id": "9f24e967-c3be-4437-82a2-fb8ff9cd86a4",
   "metadata": {},
   "outputs": [],
   "source": [
    "class Villian(Character):\n",
    "\n",
    "    evil_outfit: str = \"black\"\n",
    "    life_history: str = \"Раньше у меня была тяжёлая жизнь. Но однажды пришёл N и предложил мне примкнуть к нему. \\n Теперь то я покажу им всем, чего я стою на самом деле!\"\n",
    "\n",
    "    def find_henchmen (self):\n",
    "        print (\"Злодей ищет приспешников\")\n",
    "    \n",
    "    def evil_laugh (self, number: int):\n",
    "        print (\"Злодей злобно смеётся: Муа\" + \"ха\"*number)"
   ]
  },
  {
   "cell_type": "code",
   "execution_count": 3,
   "id": "a4e8e138-f26a-4865-92dd-a5cc24b439c8",
   "metadata": {},
   "outputs": [],
   "source": [
    "class VillianMagician(Villian):\n",
    "\n",
    "    weapon1: str = \"Жезл 16-ти пар в неделю\"\n",
    "    weapon2: str = \"Сфера уныния\"\n",
    "\n",
    "    def withering_spell (self):\n",
    "        print (\"Злодей скастовал на вас иссушение\")\n",
    "    def fatigue_spell (self):\n",
    "        print (\"Злодей скастовал на вас усталось\")"
   ]
  },
  {
   "cell_type": "code",
   "execution_count": 4,
   "id": "49fce453-d2fd-4822-92fc-7be167689963",
   "metadata": {},
   "outputs": [],
   "source": [
    "class VillianThief(Villian):\n",
    "\n",
    "    dexterity = 120\n",
    "    strength = 80\n",
    "    speed = 120\n",
    "    health = 70\n",
    "    kindness = 110\n",
    "\n",
    "    catchphrase: str = \"Я бы украл у тебя денег, но ты выглядишь так, будто у тебя их и так нет. На вот, сходи поешь\"\n",
    "    \n",
    "    def steal(self, object: str):\n",
    "        print(\"Злодей украл у вас \", object)\n",
    "    def hide(self):\n",
    "        print(\"Злодей спрятался\")\n",
    "    def give(self, object: str):\n",
    "        print(\"Злодей пожалел вас и дал вам \", object)"
   ]
  },
  {
   "cell_type": "code",
   "execution_count": 5,
   "id": "5e0344d8-a6a8-4ab9-afbf-cc0a1e013276",
   "metadata": {},
   "outputs": [],
   "source": [
    "class Hero(Character):\n",
    "\n",
    "    hero_outfit: str = \"white\"\n",
    "    free_perks: str = \"Гений, миллионер, плэйбой, филантроп\"\n",
    "\n",
    "    def do_evil_by_accident (self):\n",
    "        print(\"Герой нечаянно поджёг ваш дом\")\n",
    "    def save_a_cat (self):\n",
    "        print(\"Герой спас кошку, застрявшую на дереве\")"
   ]
  },
  {
   "cell_type": "code",
   "execution_count": 6,
   "id": "86ef045e-cd57-49a6-921d-79598ab7faa2",
   "metadata": {},
   "outputs": [],
   "source": [
    "class HeroSwordsman(Hero):\n",
    "\n",
    "    iq = 50\n",
    "    strength = 120\n",
    "    hubris = 200\n",
    "\n",
    "    catchphrase: str = \"Я бы защитил себя, но мне жаль свой красивый меч\"\n",
    "    \n",
    "    def shine_sword (self):\n",
    "        print (\"Герой сверкает мечом\")\n",
    "    def be_afraid (self):\n",
    "        print (\"Герой напугался и убежал\")"
   ]
  },
  {
   "cell_type": "code",
   "execution_count": 7,
   "id": "76bcd90a-8b27-4de3-bdc3-a0ca2a3a0115",
   "metadata": {},
   "outputs": [],
   "source": [
    "class HeroCatGirl(Hero):\n",
    "\n",
    "    iq = 120\n",
    "    speed = 120\n",
    "    strength = 80\n",
    "    health = 90\n",
    "    \n",
    "    catchphrase: str = \"ыыы я поймала мыш\"\n",
    "    \n",
    "    def attack(self):\n",
    "        print(\"Герой атакует милостью\")\n",
    "    def reborn(self, number: int):\n",
    "        if 0 < number < 9:\n",
    "            print(f\"Герой перерождается в {number} раз\") \n",
    "        elif number > 9:\n",
    "            print(\"Герой помер\")"
   ]
  },
  {
   "cell_type": "code",
   "execution_count": 8,
   "id": "43c9f8e9-0e7b-4913-8772-789c38718da6",
   "metadata": {},
   "outputs": [
    {
     "name": "stdout",
     "output_type": "stream",
     "text": [
      "Герой атакует милостью\n",
      "Герой помер\n"
     ]
    }
   ],
   "source": [
    "catgirl1 = HeroCatGirl()\n",
    "catgirl1.attack()\n",
    "catgirl1.reborn(10)"
   ]
  },
  {
   "cell_type": "code",
   "execution_count": 9,
   "id": "20a6eea8-8f9b-4955-ba27-f1f7dda5fab7",
   "metadata": {},
   "outputs": [
    {
     "name": "stdout",
     "output_type": "stream",
     "text": [
      "Герой сверкает мечом\n"
     ]
    },
    {
     "data": {
      "text/plain": [
       "'Я бы защитил себя, но мне жаль свой красивый меч'"
      ]
     },
     "execution_count": 9,
     "metadata": {},
     "output_type": "execute_result"
    }
   ],
   "source": [
    "vova_swordsman = HeroSwordsman()\n",
    "vova_swordsman.shine_sword()\n",
    "vova_swordsman.catchphrase"
   ]
  },
  {
   "cell_type": "code",
   "execution_count": 10,
   "id": "bcc0b362-4d95-4ae0-82b6-a59ea7800107",
   "metadata": {},
   "outputs": [
    {
     "name": "stdout",
     "output_type": "stream",
     "text": [
      "Злодей украл у вас  кошелёк\n",
      "Злодей пожалел вас и дал вам  50 рублей на булку\n"
     ]
    }
   ],
   "source": [
    "avov_thief = VillianThief()\n",
    "avov_thief.steal(\"кошелёк\")\n",
    "avov_thief.give(\"50 рублей на булку\")"
   ]
  },
  {
   "cell_type": "code",
   "execution_count": 17,
   "id": "4ca8fe52-09a2-4528-abf5-e098f8bb06b3",
   "metadata": {},
   "outputs": [
    {
     "name": "stdout",
     "output_type": "stream",
     "text": [
      "Злодей злобно смеётся: Муахахахахаха\n",
      "Злодей скастовал на вас усталось\n"
     ]
    },
    {
     "data": {
      "text/plain": [
       "'Жезл 16-ти пар в неделю'"
      ]
     },
     "execution_count": 17,
     "metadata": {},
     "output_type": "execute_result"
    }
   ],
   "source": [
    "avov_magician = VillianMagician()\n",
    "avov_magician.evil_laugh(5)\n",
    "avov_magician.fatigue_spell()\n",
    "avov_magician.weapon1"
   ]
  }
 ],
 "metadata": {
  "kernelspec": {
   "display_name": "Python 3 (ipykernel)",
   "language": "python",
   "name": "python3"
  },
  "language_info": {
   "codemirror_mode": {
    "name": "ipython",
    "version": 3
   },
   "file_extension": ".py",
   "mimetype": "text/x-python",
   "name": "python",
   "nbconvert_exporter": "python",
   "pygments_lexer": "ipython3",
   "version": "3.11.1"
  }
 },
 "nbformat": 4,
 "nbformat_minor": 5
}
